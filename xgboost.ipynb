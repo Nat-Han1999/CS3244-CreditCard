{
  "nbformat": 4,
  "nbformat_minor": 0,
  "metadata": {
    "colab": {
      "provenance": [],
      "toc_visible": true
    },
    "kernelspec": {
      "name": "python3",
      "display_name": "Python 3"
    },
    "language_info": {
      "name": "python"
    }
  },
  "cells": [
    {
      "cell_type": "markdown",
      "source": [
        "# Loading Libraries and Importing CSV "
      ],
      "metadata": {
        "id": "3JAqE3dKCsBq"
      }
    },
    {
      "cell_type": "code",
      "execution_count": null,
      "metadata": {
        "id": "bPoY8fESf3Bs"
      },
      "outputs": [],
      "source": [
        "import pandas as pd\n",
        "import numpy as np\n",
        "from collections import Counter\n",
        "from sklearn.preprocessing import OneHotEncoder\n",
        "\n",
        "# For XGB model\n",
        "from sklearn.model_selection import train_test_split\n",
        "from xgboost import XGBClassifier\n",
        "\n",
        "# For hyperparameter tuning\n",
        "from sklearn.model_selection import GridSearchCV\n",
        "from sklearn.model_selection import RandomizedSearchCV\n",
        "\n",
        "# For F1 score, AUC-ROC curve\n",
        "from sklearn import metrics\n",
        "import matplotlib.pyplot as plt"
      ]
    },
    {
      "cell_type": "code",
      "source": [
        "cc_data_raw = pd.read_csv(\"cc_data.csv\", encoding = 'utf-8', index_col=0) \n",
        "cc_data = cc_data_raw.drop(['ID','FLAG_MOBIL'], axis=1)\n",
        "cc_data"
      ],
      "metadata": {
        "colab": {
          "base_uri": "https://localhost:8080/",
          "height": 609
        },
        "id": "FzUeo88zebPq",
        "outputId": "01344c35-5fb6-4ff5-ec83-6bf2d42956d0"
      },
      "execution_count": null,
      "outputs": [
        {
          "output_type": "execute_result",
          "data": {
            "text/plain": [
              "       CNT_CHILDREN  AMT_INCOME_TOTAL      NAME_INCOME_TYPE  \\\n",
              "0                 0          427500.0               Working   \n",
              "1                 0          427500.0               Working   \n",
              "2                 0          112500.0               Working   \n",
              "3                 0          270000.0  Commercial associate   \n",
              "4                 0          270000.0  Commercial associate   \n",
              "...             ...               ...                   ...   \n",
              "36100             1          112500.0               Working   \n",
              "36101             1          112500.0               Working   \n",
              "36102             0          180000.0               Working   \n",
              "36103             0          180000.0               Working   \n",
              "36104             0           90000.0               Working   \n",
              "\n",
              "                 NAME_EDUCATION_TYPE    NAME_FAMILY_STATUS  NAME_HOUSING_TYPE  \\\n",
              "0                   Higher education        Civil marriage   Rented apartment   \n",
              "1                   Higher education        Civil marriage   Rented apartment   \n",
              "2      Secondary / secondary special               Married  House / apartment   \n",
              "3      Secondary / secondary special  Single / not married  House / apartment   \n",
              "4      Secondary / secondary special  Single / not married  House / apartment   \n",
              "...                              ...                   ...                ...   \n",
              "36100  Secondary / secondary special               Married  House / apartment   \n",
              "36101  Secondary / secondary special               Married  House / apartment   \n",
              "36102  Secondary / secondary special               Married  House / apartment   \n",
              "36103  Secondary / secondary special               Married  House / apartment   \n",
              "36104               Higher education               Married       With parents   \n",
              "\n",
              "       DAYS_BIRTH  DAYS_EMPLOYED  FLAG_WORK_PHONE  FLAG_PHONE  FLAG_EMAIL  \\\n",
              "0          -12005          -4542                1           0           0   \n",
              "1          -12005          -4542                1           0           0   \n",
              "2          -21474          -1134                0           0           0   \n",
              "3          -19110          -3051                0           1           1   \n",
              "4          -19110          -3051                0           1           1   \n",
              "...           ...            ...              ...         ...         ...   \n",
              "36100      -14234           -309                0           0           0   \n",
              "36101      -14234           -309                0           0           0   \n",
              "36102      -17713          -2441                0           0           0   \n",
              "36103      -17713          -2441                0           0           0   \n",
              "36104      -12414           -128                0           0           0   \n",
              "\n",
              "      OCCUPATION_TYPE  CNT_FAM_MEMBERS  Gender  Has_Car  Has_Realty  REALTYPE  \n",
              "0             Unknown                2       1        1           1         0  \n",
              "1             Unknown                2       1        1           1         0  \n",
              "2      Security staff                2       1        1           1         0  \n",
              "3         Sales staff                1       0        0           1         0  \n",
              "4         Sales staff                1       0        0           1         0  \n",
              "...               ...              ...     ...      ...         ...       ...  \n",
              "36100      Core staff                3       0        1           1         0  \n",
              "36101      Core staff                3       0        1           1         0  \n",
              "36102   Cooking staff                2       0        0           1         0  \n",
              "36103   Cooking staff                2       0        0           1         0  \n",
              "36104         Unknown                2       0        0           0         0  \n",
              "\n",
              "[36105 rows x 17 columns]"
            ],
            "text/html": [
              "\n",
              "  <div id=\"df-d088ef3b-aec2-49d4-ad94-e957b79d229d\">\n",
              "    <div class=\"colab-df-container\">\n",
              "      <div>\n",
              "<style scoped>\n",
              "    .dataframe tbody tr th:only-of-type {\n",
              "        vertical-align: middle;\n",
              "    }\n",
              "\n",
              "    .dataframe tbody tr th {\n",
              "        vertical-align: top;\n",
              "    }\n",
              "\n",
              "    .dataframe thead th {\n",
              "        text-align: right;\n",
              "    }\n",
              "</style>\n",
              "<table border=\"1\" class=\"dataframe\">\n",
              "  <thead>\n",
              "    <tr style=\"text-align: right;\">\n",
              "      <th></th>\n",
              "      <th>CNT_CHILDREN</th>\n",
              "      <th>AMT_INCOME_TOTAL</th>\n",
              "      <th>NAME_INCOME_TYPE</th>\n",
              "      <th>NAME_EDUCATION_TYPE</th>\n",
              "      <th>NAME_FAMILY_STATUS</th>\n",
              "      <th>NAME_HOUSING_TYPE</th>\n",
              "      <th>DAYS_BIRTH</th>\n",
              "      <th>DAYS_EMPLOYED</th>\n",
              "      <th>FLAG_WORK_PHONE</th>\n",
              "      <th>FLAG_PHONE</th>\n",
              "      <th>FLAG_EMAIL</th>\n",
              "      <th>OCCUPATION_TYPE</th>\n",
              "      <th>CNT_FAM_MEMBERS</th>\n",
              "      <th>Gender</th>\n",
              "      <th>Has_Car</th>\n",
              "      <th>Has_Realty</th>\n",
              "      <th>REALTYPE</th>\n",
              "    </tr>\n",
              "  </thead>\n",
              "  <tbody>\n",
              "    <tr>\n",
              "      <th>0</th>\n",
              "      <td>0</td>\n",
              "      <td>427500.0</td>\n",
              "      <td>Working</td>\n",
              "      <td>Higher education</td>\n",
              "      <td>Civil marriage</td>\n",
              "      <td>Rented apartment</td>\n",
              "      <td>-12005</td>\n",
              "      <td>-4542</td>\n",
              "      <td>1</td>\n",
              "      <td>0</td>\n",
              "      <td>0</td>\n",
              "      <td>Unknown</td>\n",
              "      <td>2</td>\n",
              "      <td>1</td>\n",
              "      <td>1</td>\n",
              "      <td>1</td>\n",
              "      <td>0</td>\n",
              "    </tr>\n",
              "    <tr>\n",
              "      <th>1</th>\n",
              "      <td>0</td>\n",
              "      <td>427500.0</td>\n",
              "      <td>Working</td>\n",
              "      <td>Higher education</td>\n",
              "      <td>Civil marriage</td>\n",
              "      <td>Rented apartment</td>\n",
              "      <td>-12005</td>\n",
              "      <td>-4542</td>\n",
              "      <td>1</td>\n",
              "      <td>0</td>\n",
              "      <td>0</td>\n",
              "      <td>Unknown</td>\n",
              "      <td>2</td>\n",
              "      <td>1</td>\n",
              "      <td>1</td>\n",
              "      <td>1</td>\n",
              "      <td>0</td>\n",
              "    </tr>\n",
              "    <tr>\n",
              "      <th>2</th>\n",
              "      <td>0</td>\n",
              "      <td>112500.0</td>\n",
              "      <td>Working</td>\n",
              "      <td>Secondary / secondary special</td>\n",
              "      <td>Married</td>\n",
              "      <td>House / apartment</td>\n",
              "      <td>-21474</td>\n",
              "      <td>-1134</td>\n",
              "      <td>0</td>\n",
              "      <td>0</td>\n",
              "      <td>0</td>\n",
              "      <td>Security staff</td>\n",
              "      <td>2</td>\n",
              "      <td>1</td>\n",
              "      <td>1</td>\n",
              "      <td>1</td>\n",
              "      <td>0</td>\n",
              "    </tr>\n",
              "    <tr>\n",
              "      <th>3</th>\n",
              "      <td>0</td>\n",
              "      <td>270000.0</td>\n",
              "      <td>Commercial associate</td>\n",
              "      <td>Secondary / secondary special</td>\n",
              "      <td>Single / not married</td>\n",
              "      <td>House / apartment</td>\n",
              "      <td>-19110</td>\n",
              "      <td>-3051</td>\n",
              "      <td>0</td>\n",
              "      <td>1</td>\n",
              "      <td>1</td>\n",
              "      <td>Sales staff</td>\n",
              "      <td>1</td>\n",
              "      <td>0</td>\n",
              "      <td>0</td>\n",
              "      <td>1</td>\n",
              "      <td>0</td>\n",
              "    </tr>\n",
              "    <tr>\n",
              "      <th>4</th>\n",
              "      <td>0</td>\n",
              "      <td>270000.0</td>\n",
              "      <td>Commercial associate</td>\n",
              "      <td>Secondary / secondary special</td>\n",
              "      <td>Single / not married</td>\n",
              "      <td>House / apartment</td>\n",
              "      <td>-19110</td>\n",
              "      <td>-3051</td>\n",
              "      <td>0</td>\n",
              "      <td>1</td>\n",
              "      <td>1</td>\n",
              "      <td>Sales staff</td>\n",
              "      <td>1</td>\n",
              "      <td>0</td>\n",
              "      <td>0</td>\n",
              "      <td>1</td>\n",
              "      <td>0</td>\n",
              "    </tr>\n",
              "    <tr>\n",
              "      <th>...</th>\n",
              "      <td>...</td>\n",
              "      <td>...</td>\n",
              "      <td>...</td>\n",
              "      <td>...</td>\n",
              "      <td>...</td>\n",
              "      <td>...</td>\n",
              "      <td>...</td>\n",
              "      <td>...</td>\n",
              "      <td>...</td>\n",
              "      <td>...</td>\n",
              "      <td>...</td>\n",
              "      <td>...</td>\n",
              "      <td>...</td>\n",
              "      <td>...</td>\n",
              "      <td>...</td>\n",
              "      <td>...</td>\n",
              "      <td>...</td>\n",
              "    </tr>\n",
              "    <tr>\n",
              "      <th>36100</th>\n",
              "      <td>1</td>\n",
              "      <td>112500.0</td>\n",
              "      <td>Working</td>\n",
              "      <td>Secondary / secondary special</td>\n",
              "      <td>Married</td>\n",
              "      <td>House / apartment</td>\n",
              "      <td>-14234</td>\n",
              "      <td>-309</td>\n",
              "      <td>0</td>\n",
              "      <td>0</td>\n",
              "      <td>0</td>\n",
              "      <td>Core staff</td>\n",
              "      <td>3</td>\n",
              "      <td>0</td>\n",
              "      <td>1</td>\n",
              "      <td>1</td>\n",
              "      <td>0</td>\n",
              "    </tr>\n",
              "    <tr>\n",
              "      <th>36101</th>\n",
              "      <td>1</td>\n",
              "      <td>112500.0</td>\n",
              "      <td>Working</td>\n",
              "      <td>Secondary / secondary special</td>\n",
              "      <td>Married</td>\n",
              "      <td>House / apartment</td>\n",
              "      <td>-14234</td>\n",
              "      <td>-309</td>\n",
              "      <td>0</td>\n",
              "      <td>0</td>\n",
              "      <td>0</td>\n",
              "      <td>Core staff</td>\n",
              "      <td>3</td>\n",
              "      <td>0</td>\n",
              "      <td>1</td>\n",
              "      <td>1</td>\n",
              "      <td>0</td>\n",
              "    </tr>\n",
              "    <tr>\n",
              "      <th>36102</th>\n",
              "      <td>0</td>\n",
              "      <td>180000.0</td>\n",
              "      <td>Working</td>\n",
              "      <td>Secondary / secondary special</td>\n",
              "      <td>Married</td>\n",
              "      <td>House / apartment</td>\n",
              "      <td>-17713</td>\n",
              "      <td>-2441</td>\n",
              "      <td>0</td>\n",
              "      <td>0</td>\n",
              "      <td>0</td>\n",
              "      <td>Cooking staff</td>\n",
              "      <td>2</td>\n",
              "      <td>0</td>\n",
              "      <td>0</td>\n",
              "      <td>1</td>\n",
              "      <td>0</td>\n",
              "    </tr>\n",
              "    <tr>\n",
              "      <th>36103</th>\n",
              "      <td>0</td>\n",
              "      <td>180000.0</td>\n",
              "      <td>Working</td>\n",
              "      <td>Secondary / secondary special</td>\n",
              "      <td>Married</td>\n",
              "      <td>House / apartment</td>\n",
              "      <td>-17713</td>\n",
              "      <td>-2441</td>\n",
              "      <td>0</td>\n",
              "      <td>0</td>\n",
              "      <td>0</td>\n",
              "      <td>Cooking staff</td>\n",
              "      <td>2</td>\n",
              "      <td>0</td>\n",
              "      <td>0</td>\n",
              "      <td>1</td>\n",
              "      <td>0</td>\n",
              "    </tr>\n",
              "    <tr>\n",
              "      <th>36104</th>\n",
              "      <td>0</td>\n",
              "      <td>90000.0</td>\n",
              "      <td>Working</td>\n",
              "      <td>Higher education</td>\n",
              "      <td>Married</td>\n",
              "      <td>With parents</td>\n",
              "      <td>-12414</td>\n",
              "      <td>-128</td>\n",
              "      <td>0</td>\n",
              "      <td>0</td>\n",
              "      <td>0</td>\n",
              "      <td>Unknown</td>\n",
              "      <td>2</td>\n",
              "      <td>0</td>\n",
              "      <td>0</td>\n",
              "      <td>0</td>\n",
              "      <td>0</td>\n",
              "    </tr>\n",
              "  </tbody>\n",
              "</table>\n",
              "<p>36105 rows × 17 columns</p>\n",
              "</div>\n",
              "      <button class=\"colab-df-convert\" onclick=\"convertToInteractive('df-d088ef3b-aec2-49d4-ad94-e957b79d229d')\"\n",
              "              title=\"Convert this dataframe to an interactive table.\"\n",
              "              style=\"display:none;\">\n",
              "        \n",
              "  <svg xmlns=\"http://www.w3.org/2000/svg\" height=\"24px\"viewBox=\"0 0 24 24\"\n",
              "       width=\"24px\">\n",
              "    <path d=\"M0 0h24v24H0V0z\" fill=\"none\"/>\n",
              "    <path d=\"M18.56 5.44l.94 2.06.94-2.06 2.06-.94-2.06-.94-.94-2.06-.94 2.06-2.06.94zm-11 1L8.5 8.5l.94-2.06 2.06-.94-2.06-.94L8.5 2.5l-.94 2.06-2.06.94zm10 10l.94 2.06.94-2.06 2.06-.94-2.06-.94-.94-2.06-.94 2.06-2.06.94z\"/><path d=\"M17.41 7.96l-1.37-1.37c-.4-.4-.92-.59-1.43-.59-.52 0-1.04.2-1.43.59L10.3 9.45l-7.72 7.72c-.78.78-.78 2.05 0 2.83L4 21.41c.39.39.9.59 1.41.59.51 0 1.02-.2 1.41-.59l7.78-7.78 2.81-2.81c.8-.78.8-2.07 0-2.86zM5.41 20L4 18.59l7.72-7.72 1.47 1.35L5.41 20z\"/>\n",
              "  </svg>\n",
              "      </button>\n",
              "      \n",
              "  <style>\n",
              "    .colab-df-container {\n",
              "      display:flex;\n",
              "      flex-wrap:wrap;\n",
              "      gap: 12px;\n",
              "    }\n",
              "\n",
              "    .colab-df-convert {\n",
              "      background-color: #E8F0FE;\n",
              "      border: none;\n",
              "      border-radius: 50%;\n",
              "      cursor: pointer;\n",
              "      display: none;\n",
              "      fill: #1967D2;\n",
              "      height: 32px;\n",
              "      padding: 0 0 0 0;\n",
              "      width: 32px;\n",
              "    }\n",
              "\n",
              "    .colab-df-convert:hover {\n",
              "      background-color: #E2EBFA;\n",
              "      box-shadow: 0px 1px 2px rgba(60, 64, 67, 0.3), 0px 1px 3px 1px rgba(60, 64, 67, 0.15);\n",
              "      fill: #174EA6;\n",
              "    }\n",
              "\n",
              "    [theme=dark] .colab-df-convert {\n",
              "      background-color: #3B4455;\n",
              "      fill: #D2E3FC;\n",
              "    }\n",
              "\n",
              "    [theme=dark] .colab-df-convert:hover {\n",
              "      background-color: #434B5C;\n",
              "      box-shadow: 0px 1px 3px 1px rgba(0, 0, 0, 0.15);\n",
              "      filter: drop-shadow(0px 1px 2px rgba(0, 0, 0, 0.3));\n",
              "      fill: #FFFFFF;\n",
              "    }\n",
              "  </style>\n",
              "\n",
              "      <script>\n",
              "        const buttonEl =\n",
              "          document.querySelector('#df-d088ef3b-aec2-49d4-ad94-e957b79d229d button.colab-df-convert');\n",
              "        buttonEl.style.display =\n",
              "          google.colab.kernel.accessAllowed ? 'block' : 'none';\n",
              "\n",
              "        async function convertToInteractive(key) {\n",
              "          const element = document.querySelector('#df-d088ef3b-aec2-49d4-ad94-e957b79d229d');\n",
              "          const dataTable =\n",
              "            await google.colab.kernel.invokeFunction('convertToInteractive',\n",
              "                                                     [key], {});\n",
              "          if (!dataTable) return;\n",
              "\n",
              "          const docLinkHtml = 'Like what you see? Visit the ' +\n",
              "            '<a target=\"_blank\" href=https://colab.research.google.com/notebooks/data_table.ipynb>data table notebook</a>'\n",
              "            + ' to learn more about interactive tables.';\n",
              "          element.innerHTML = '';\n",
              "          dataTable['output_type'] = 'display_data';\n",
              "          await google.colab.output.renderOutput(dataTable, element);\n",
              "          const docLink = document.createElement('div');\n",
              "          docLink.innerHTML = docLinkHtml;\n",
              "          element.appendChild(docLink);\n",
              "        }\n",
              "      </script>\n",
              "    </div>\n",
              "  </div>\n",
              "  "
            ]
          },
          "metadata": {},
          "execution_count": 50
        }
      ]
    },
    {
      "cell_type": "markdown",
      "source": [
        "## One-hot encoding"
      ],
      "metadata": {
        "id": "6wrIygyW_OpY"
      }
    },
    {
      "cell_type": "code",
      "source": [
        "cateogorical_var = ['NAME_INCOME_TYPE', 'NAME_EDUCATION_TYPE', \n",
        "           'NAME_FAMILY_STATUS', 'NAME_HOUSING_TYPE', 'OCCUPATION_TYPE']\n",
        "\n",
        "cc_data_ohe = cc_data.copy()\n",
        "\n",
        "for col in cateogorical_var:\n",
        "    holder = cc_data_ohe[col].values.reshape(-1, 1)\n",
        "    onehot_encoder = OneHotEncoder(sparse=False)\n",
        "    X = pd.DataFrame(onehot_encoder.fit_transform(holder))\n",
        "    X.columns = onehot_encoder.get_feature_names_out([col])\n",
        "    cc_data_ohe = cc_data_ohe.join(X)     \n",
        "\n",
        "cc_data_num = cc_data_ohe.drop(cateogorical_var, axis=1)\n",
        "cc_data_num"
      ],
      "metadata": {
        "id": "epXmoNiQ2tHL",
        "colab": {
          "base_uri": "https://localhost:8080/",
          "height": 505
        },
        "outputId": "e1524ffb-ea62-4877-b904-ef011726ab7a"
      },
      "execution_count": null,
      "outputs": [
        {
          "output_type": "execute_result",
          "data": {
            "text/plain": [
              "       CNT_CHILDREN  AMT_INCOME_TOTAL  DAYS_BIRTH  DAYS_EMPLOYED  \\\n",
              "0                 0          427500.0      -12005          -4542   \n",
              "1                 0          427500.0      -12005          -4542   \n",
              "2                 0          112500.0      -21474          -1134   \n",
              "3                 0          270000.0      -19110          -3051   \n",
              "4                 0          270000.0      -19110          -3051   \n",
              "...             ...               ...         ...            ...   \n",
              "36100             1          112500.0      -14234           -309   \n",
              "36101             1          112500.0      -14234           -309   \n",
              "36102             0          180000.0      -17713          -2441   \n",
              "36103             0          180000.0      -17713          -2441   \n",
              "36104             0           90000.0      -12414           -128   \n",
              "\n",
              "       FLAG_WORK_PHONE  FLAG_PHONE  FLAG_EMAIL  CNT_FAM_MEMBERS  Gender  \\\n",
              "0                    1           0           0                2       1   \n",
              "1                    1           0           0                2       1   \n",
              "2                    0           0           0                2       1   \n",
              "3                    0           1           1                1       0   \n",
              "4                    0           1           1                1       0   \n",
              "...                ...         ...         ...              ...     ...   \n",
              "36100                0           0           0                3       0   \n",
              "36101                0           0           0                3       0   \n",
              "36102                0           0           0                2       0   \n",
              "36103                0           0           0                2       0   \n",
              "36104                0           0           0                2       0   \n",
              "\n",
              "       Has_Car  ...  OCCUPATION_TYPE_Low-skill Laborers  \\\n",
              "0            1  ...                                 0.0   \n",
              "1            1  ...                                 0.0   \n",
              "2            1  ...                                 0.0   \n",
              "3            0  ...                                 0.0   \n",
              "4            0  ...                                 0.0   \n",
              "...        ...  ...                                 ...   \n",
              "36100        1  ...                                 0.0   \n",
              "36101        1  ...                                 0.0   \n",
              "36102        0  ...                                 0.0   \n",
              "36103        0  ...                                 0.0   \n",
              "36104        0  ...                                 0.0   \n",
              "\n",
              "       OCCUPATION_TYPE_Managers  OCCUPATION_TYPE_Medicine staff  \\\n",
              "0                           0.0                             0.0   \n",
              "1                           0.0                             0.0   \n",
              "2                           0.0                             0.0   \n",
              "3                           0.0                             0.0   \n",
              "4                           0.0                             0.0   \n",
              "...                         ...                             ...   \n",
              "36100                       0.0                             0.0   \n",
              "36101                       0.0                             0.0   \n",
              "36102                       0.0                             0.0   \n",
              "36103                       0.0                             0.0   \n",
              "36104                       0.0                             0.0   \n",
              "\n",
              "       OCCUPATION_TYPE_Private service staff  OCCUPATION_TYPE_Realty agents  \\\n",
              "0                                        0.0                            0.0   \n",
              "1                                        0.0                            0.0   \n",
              "2                                        0.0                            0.0   \n",
              "3                                        0.0                            0.0   \n",
              "4                                        0.0                            0.0   \n",
              "...                                      ...                            ...   \n",
              "36100                                    0.0                            0.0   \n",
              "36101                                    0.0                            0.0   \n",
              "36102                                    0.0                            0.0   \n",
              "36103                                    0.0                            0.0   \n",
              "36104                                    0.0                            0.0   \n",
              "\n",
              "       OCCUPATION_TYPE_Sales staff  OCCUPATION_TYPE_Secretaries  \\\n",
              "0                              0.0                          0.0   \n",
              "1                              0.0                          0.0   \n",
              "2                              0.0                          0.0   \n",
              "3                              1.0                          0.0   \n",
              "4                              1.0                          0.0   \n",
              "...                            ...                          ...   \n",
              "36100                          0.0                          0.0   \n",
              "36101                          0.0                          0.0   \n",
              "36102                          0.0                          0.0   \n",
              "36103                          0.0                          0.0   \n",
              "36104                          0.0                          0.0   \n",
              "\n",
              "       OCCUPATION_TYPE_Security staff  OCCUPATION_TYPE_Unknown  \\\n",
              "0                                 0.0                      1.0   \n",
              "1                                 0.0                      1.0   \n",
              "2                                 1.0                      0.0   \n",
              "3                                 0.0                      0.0   \n",
              "4                                 0.0                      0.0   \n",
              "...                               ...                      ...   \n",
              "36100                             0.0                      0.0   \n",
              "36101                             0.0                      0.0   \n",
              "36102                             0.0                      0.0   \n",
              "36103                             0.0                      0.0   \n",
              "36104                             0.0                      1.0   \n",
              "\n",
              "       OCCUPATION_TYPE_Waiters/barmen staff  \n",
              "0                                       0.0  \n",
              "1                                       0.0  \n",
              "2                                       0.0  \n",
              "3                                       0.0  \n",
              "4                                       0.0  \n",
              "...                                     ...  \n",
              "36100                                   0.0  \n",
              "36101                                   0.0  \n",
              "36102                                   0.0  \n",
              "36103                                   0.0  \n",
              "36104                                   0.0  \n",
              "\n",
              "[36105 rows x 52 columns]"
            ],
            "text/html": [
              "\n",
              "  <div id=\"df-f1580685-6b2b-4749-903d-aab906b4dcaf\">\n",
              "    <div class=\"colab-df-container\">\n",
              "      <div>\n",
              "<style scoped>\n",
              "    .dataframe tbody tr th:only-of-type {\n",
              "        vertical-align: middle;\n",
              "    }\n",
              "\n",
              "    .dataframe tbody tr th {\n",
              "        vertical-align: top;\n",
              "    }\n",
              "\n",
              "    .dataframe thead th {\n",
              "        text-align: right;\n",
              "    }\n",
              "</style>\n",
              "<table border=\"1\" class=\"dataframe\">\n",
              "  <thead>\n",
              "    <tr style=\"text-align: right;\">\n",
              "      <th></th>\n",
              "      <th>CNT_CHILDREN</th>\n",
              "      <th>AMT_INCOME_TOTAL</th>\n",
              "      <th>DAYS_BIRTH</th>\n",
              "      <th>DAYS_EMPLOYED</th>\n",
              "      <th>FLAG_WORK_PHONE</th>\n",
              "      <th>FLAG_PHONE</th>\n",
              "      <th>FLAG_EMAIL</th>\n",
              "      <th>CNT_FAM_MEMBERS</th>\n",
              "      <th>Gender</th>\n",
              "      <th>Has_Car</th>\n",
              "      <th>...</th>\n",
              "      <th>OCCUPATION_TYPE_Low-skill Laborers</th>\n",
              "      <th>OCCUPATION_TYPE_Managers</th>\n",
              "      <th>OCCUPATION_TYPE_Medicine staff</th>\n",
              "      <th>OCCUPATION_TYPE_Private service staff</th>\n",
              "      <th>OCCUPATION_TYPE_Realty agents</th>\n",
              "      <th>OCCUPATION_TYPE_Sales staff</th>\n",
              "      <th>OCCUPATION_TYPE_Secretaries</th>\n",
              "      <th>OCCUPATION_TYPE_Security staff</th>\n",
              "      <th>OCCUPATION_TYPE_Unknown</th>\n",
              "      <th>OCCUPATION_TYPE_Waiters/barmen staff</th>\n",
              "    </tr>\n",
              "  </thead>\n",
              "  <tbody>\n",
              "    <tr>\n",
              "      <th>0</th>\n",
              "      <td>0</td>\n",
              "      <td>427500.0</td>\n",
              "      <td>-12005</td>\n",
              "      <td>-4542</td>\n",
              "      <td>1</td>\n",
              "      <td>0</td>\n",
              "      <td>0</td>\n",
              "      <td>2</td>\n",
              "      <td>1</td>\n",
              "      <td>1</td>\n",
              "      <td>...</td>\n",
              "      <td>0.0</td>\n",
              "      <td>0.0</td>\n",
              "      <td>0.0</td>\n",
              "      <td>0.0</td>\n",
              "      <td>0.0</td>\n",
              "      <td>0.0</td>\n",
              "      <td>0.0</td>\n",
              "      <td>0.0</td>\n",
              "      <td>1.0</td>\n",
              "      <td>0.0</td>\n",
              "    </tr>\n",
              "    <tr>\n",
              "      <th>1</th>\n",
              "      <td>0</td>\n",
              "      <td>427500.0</td>\n",
              "      <td>-12005</td>\n",
              "      <td>-4542</td>\n",
              "      <td>1</td>\n",
              "      <td>0</td>\n",
              "      <td>0</td>\n",
              "      <td>2</td>\n",
              "      <td>1</td>\n",
              "      <td>1</td>\n",
              "      <td>...</td>\n",
              "      <td>0.0</td>\n",
              "      <td>0.0</td>\n",
              "      <td>0.0</td>\n",
              "      <td>0.0</td>\n",
              "      <td>0.0</td>\n",
              "      <td>0.0</td>\n",
              "      <td>0.0</td>\n",
              "      <td>0.0</td>\n",
              "      <td>1.0</td>\n",
              "      <td>0.0</td>\n",
              "    </tr>\n",
              "    <tr>\n",
              "      <th>2</th>\n",
              "      <td>0</td>\n",
              "      <td>112500.0</td>\n",
              "      <td>-21474</td>\n",
              "      <td>-1134</td>\n",
              "      <td>0</td>\n",
              "      <td>0</td>\n",
              "      <td>0</td>\n",
              "      <td>2</td>\n",
              "      <td>1</td>\n",
              "      <td>1</td>\n",
              "      <td>...</td>\n",
              "      <td>0.0</td>\n",
              "      <td>0.0</td>\n",
              "      <td>0.0</td>\n",
              "      <td>0.0</td>\n",
              "      <td>0.0</td>\n",
              "      <td>0.0</td>\n",
              "      <td>0.0</td>\n",
              "      <td>1.0</td>\n",
              "      <td>0.0</td>\n",
              "      <td>0.0</td>\n",
              "    </tr>\n",
              "    <tr>\n",
              "      <th>3</th>\n",
              "      <td>0</td>\n",
              "      <td>270000.0</td>\n",
              "      <td>-19110</td>\n",
              "      <td>-3051</td>\n",
              "      <td>0</td>\n",
              "      <td>1</td>\n",
              "      <td>1</td>\n",
              "      <td>1</td>\n",
              "      <td>0</td>\n",
              "      <td>0</td>\n",
              "      <td>...</td>\n",
              "      <td>0.0</td>\n",
              "      <td>0.0</td>\n",
              "      <td>0.0</td>\n",
              "      <td>0.0</td>\n",
              "      <td>0.0</td>\n",
              "      <td>1.0</td>\n",
              "      <td>0.0</td>\n",
              "      <td>0.0</td>\n",
              "      <td>0.0</td>\n",
              "      <td>0.0</td>\n",
              "    </tr>\n",
              "    <tr>\n",
              "      <th>4</th>\n",
              "      <td>0</td>\n",
              "      <td>270000.0</td>\n",
              "      <td>-19110</td>\n",
              "      <td>-3051</td>\n",
              "      <td>0</td>\n",
              "      <td>1</td>\n",
              "      <td>1</td>\n",
              "      <td>1</td>\n",
              "      <td>0</td>\n",
              "      <td>0</td>\n",
              "      <td>...</td>\n",
              "      <td>0.0</td>\n",
              "      <td>0.0</td>\n",
              "      <td>0.0</td>\n",
              "      <td>0.0</td>\n",
              "      <td>0.0</td>\n",
              "      <td>1.0</td>\n",
              "      <td>0.0</td>\n",
              "      <td>0.0</td>\n",
              "      <td>0.0</td>\n",
              "      <td>0.0</td>\n",
              "    </tr>\n",
              "    <tr>\n",
              "      <th>...</th>\n",
              "      <td>...</td>\n",
              "      <td>...</td>\n",
              "      <td>...</td>\n",
              "      <td>...</td>\n",
              "      <td>...</td>\n",
              "      <td>...</td>\n",
              "      <td>...</td>\n",
              "      <td>...</td>\n",
              "      <td>...</td>\n",
              "      <td>...</td>\n",
              "      <td>...</td>\n",
              "      <td>...</td>\n",
              "      <td>...</td>\n",
              "      <td>...</td>\n",
              "      <td>...</td>\n",
              "      <td>...</td>\n",
              "      <td>...</td>\n",
              "      <td>...</td>\n",
              "      <td>...</td>\n",
              "      <td>...</td>\n",
              "      <td>...</td>\n",
              "    </tr>\n",
              "    <tr>\n",
              "      <th>36100</th>\n",
              "      <td>1</td>\n",
              "      <td>112500.0</td>\n",
              "      <td>-14234</td>\n",
              "      <td>-309</td>\n",
              "      <td>0</td>\n",
              "      <td>0</td>\n",
              "      <td>0</td>\n",
              "      <td>3</td>\n",
              "      <td>0</td>\n",
              "      <td>1</td>\n",
              "      <td>...</td>\n",
              "      <td>0.0</td>\n",
              "      <td>0.0</td>\n",
              "      <td>0.0</td>\n",
              "      <td>0.0</td>\n",
              "      <td>0.0</td>\n",
              "      <td>0.0</td>\n",
              "      <td>0.0</td>\n",
              "      <td>0.0</td>\n",
              "      <td>0.0</td>\n",
              "      <td>0.0</td>\n",
              "    </tr>\n",
              "    <tr>\n",
              "      <th>36101</th>\n",
              "      <td>1</td>\n",
              "      <td>112500.0</td>\n",
              "      <td>-14234</td>\n",
              "      <td>-309</td>\n",
              "      <td>0</td>\n",
              "      <td>0</td>\n",
              "      <td>0</td>\n",
              "      <td>3</td>\n",
              "      <td>0</td>\n",
              "      <td>1</td>\n",
              "      <td>...</td>\n",
              "      <td>0.0</td>\n",
              "      <td>0.0</td>\n",
              "      <td>0.0</td>\n",
              "      <td>0.0</td>\n",
              "      <td>0.0</td>\n",
              "      <td>0.0</td>\n",
              "      <td>0.0</td>\n",
              "      <td>0.0</td>\n",
              "      <td>0.0</td>\n",
              "      <td>0.0</td>\n",
              "    </tr>\n",
              "    <tr>\n",
              "      <th>36102</th>\n",
              "      <td>0</td>\n",
              "      <td>180000.0</td>\n",
              "      <td>-17713</td>\n",
              "      <td>-2441</td>\n",
              "      <td>0</td>\n",
              "      <td>0</td>\n",
              "      <td>0</td>\n",
              "      <td>2</td>\n",
              "      <td>0</td>\n",
              "      <td>0</td>\n",
              "      <td>...</td>\n",
              "      <td>0.0</td>\n",
              "      <td>0.0</td>\n",
              "      <td>0.0</td>\n",
              "      <td>0.0</td>\n",
              "      <td>0.0</td>\n",
              "      <td>0.0</td>\n",
              "      <td>0.0</td>\n",
              "      <td>0.0</td>\n",
              "      <td>0.0</td>\n",
              "      <td>0.0</td>\n",
              "    </tr>\n",
              "    <tr>\n",
              "      <th>36103</th>\n",
              "      <td>0</td>\n",
              "      <td>180000.0</td>\n",
              "      <td>-17713</td>\n",
              "      <td>-2441</td>\n",
              "      <td>0</td>\n",
              "      <td>0</td>\n",
              "      <td>0</td>\n",
              "      <td>2</td>\n",
              "      <td>0</td>\n",
              "      <td>0</td>\n",
              "      <td>...</td>\n",
              "      <td>0.0</td>\n",
              "      <td>0.0</td>\n",
              "      <td>0.0</td>\n",
              "      <td>0.0</td>\n",
              "      <td>0.0</td>\n",
              "      <td>0.0</td>\n",
              "      <td>0.0</td>\n",
              "      <td>0.0</td>\n",
              "      <td>0.0</td>\n",
              "      <td>0.0</td>\n",
              "    </tr>\n",
              "    <tr>\n",
              "      <th>36104</th>\n",
              "      <td>0</td>\n",
              "      <td>90000.0</td>\n",
              "      <td>-12414</td>\n",
              "      <td>-128</td>\n",
              "      <td>0</td>\n",
              "      <td>0</td>\n",
              "      <td>0</td>\n",
              "      <td>2</td>\n",
              "      <td>0</td>\n",
              "      <td>0</td>\n",
              "      <td>...</td>\n",
              "      <td>0.0</td>\n",
              "      <td>0.0</td>\n",
              "      <td>0.0</td>\n",
              "      <td>0.0</td>\n",
              "      <td>0.0</td>\n",
              "      <td>0.0</td>\n",
              "      <td>0.0</td>\n",
              "      <td>0.0</td>\n",
              "      <td>1.0</td>\n",
              "      <td>0.0</td>\n",
              "    </tr>\n",
              "  </tbody>\n",
              "</table>\n",
              "<p>36105 rows × 52 columns</p>\n",
              "</div>\n",
              "      <button class=\"colab-df-convert\" onclick=\"convertToInteractive('df-f1580685-6b2b-4749-903d-aab906b4dcaf')\"\n",
              "              title=\"Convert this dataframe to an interactive table.\"\n",
              "              style=\"display:none;\">\n",
              "        \n",
              "  <svg xmlns=\"http://www.w3.org/2000/svg\" height=\"24px\"viewBox=\"0 0 24 24\"\n",
              "       width=\"24px\">\n",
              "    <path d=\"M0 0h24v24H0V0z\" fill=\"none\"/>\n",
              "    <path d=\"M18.56 5.44l.94 2.06.94-2.06 2.06-.94-2.06-.94-.94-2.06-.94 2.06-2.06.94zm-11 1L8.5 8.5l.94-2.06 2.06-.94-2.06-.94L8.5 2.5l-.94 2.06-2.06.94zm10 10l.94 2.06.94-2.06 2.06-.94-2.06-.94-.94-2.06-.94 2.06-2.06.94z\"/><path d=\"M17.41 7.96l-1.37-1.37c-.4-.4-.92-.59-1.43-.59-.52 0-1.04.2-1.43.59L10.3 9.45l-7.72 7.72c-.78.78-.78 2.05 0 2.83L4 21.41c.39.39.9.59 1.41.59.51 0 1.02-.2 1.41-.59l7.78-7.78 2.81-2.81c.8-.78.8-2.07 0-2.86zM5.41 20L4 18.59l7.72-7.72 1.47 1.35L5.41 20z\"/>\n",
              "  </svg>\n",
              "      </button>\n",
              "      \n",
              "  <style>\n",
              "    .colab-df-container {\n",
              "      display:flex;\n",
              "      flex-wrap:wrap;\n",
              "      gap: 12px;\n",
              "    }\n",
              "\n",
              "    .colab-df-convert {\n",
              "      background-color: #E8F0FE;\n",
              "      border: none;\n",
              "      border-radius: 50%;\n",
              "      cursor: pointer;\n",
              "      display: none;\n",
              "      fill: #1967D2;\n",
              "      height: 32px;\n",
              "      padding: 0 0 0 0;\n",
              "      width: 32px;\n",
              "    }\n",
              "\n",
              "    .colab-df-convert:hover {\n",
              "      background-color: #E2EBFA;\n",
              "      box-shadow: 0px 1px 2px rgba(60, 64, 67, 0.3), 0px 1px 3px 1px rgba(60, 64, 67, 0.15);\n",
              "      fill: #174EA6;\n",
              "    }\n",
              "\n",
              "    [theme=dark] .colab-df-convert {\n",
              "      background-color: #3B4455;\n",
              "      fill: #D2E3FC;\n",
              "    }\n",
              "\n",
              "    [theme=dark] .colab-df-convert:hover {\n",
              "      background-color: #434B5C;\n",
              "      box-shadow: 0px 1px 3px 1px rgba(0, 0, 0, 0.15);\n",
              "      filter: drop-shadow(0px 1px 2px rgba(0, 0, 0, 0.3));\n",
              "      fill: #FFFFFF;\n",
              "    }\n",
              "  </style>\n",
              "\n",
              "      <script>\n",
              "        const buttonEl =\n",
              "          document.querySelector('#df-f1580685-6b2b-4749-903d-aab906b4dcaf button.colab-df-convert');\n",
              "        buttonEl.style.display =\n",
              "          google.colab.kernel.accessAllowed ? 'block' : 'none';\n",
              "\n",
              "        async function convertToInteractive(key) {\n",
              "          const element = document.querySelector('#df-f1580685-6b2b-4749-903d-aab906b4dcaf');\n",
              "          const dataTable =\n",
              "            await google.colab.kernel.invokeFunction('convertToInteractive',\n",
              "                                                     [key], {});\n",
              "          if (!dataTable) return;\n",
              "\n",
              "          const docLinkHtml = 'Like what you see? Visit the ' +\n",
              "            '<a target=\"_blank\" href=https://colab.research.google.com/notebooks/data_table.ipynb>data table notebook</a>'\n",
              "            + ' to learn more about interactive tables.';\n",
              "          element.innerHTML = '';\n",
              "          dataTable['output_type'] = 'display_data';\n",
              "          await google.colab.output.renderOutput(dataTable, element);\n",
              "          const docLink = document.createElement('div');\n",
              "          docLink.innerHTML = docLinkHtml;\n",
              "          element.appendChild(docLink);\n",
              "        }\n",
              "      </script>\n",
              "    </div>\n",
              "  </div>\n",
              "  "
            ]
          },
          "metadata": {},
          "execution_count": 51
        }
      ]
    },
    {
      "cell_type": "markdown",
      "source": [
        "## Split train, test data\n",
        "`random_state=4` has been specified for model training and testing purposes, so that results returned are consistent even when running the model on separate occasions. "
      ],
      "metadata": {
        "id": "G0M4S249ty1-"
      }
    },
    {
      "cell_type": "code",
      "source": [
        "x = np.array(cc_data_num.loc[:, cc_data_num.columns !='REALTYPE']) \n",
        "y = np.array(cc_data_num.loc[:, 'REALTYPE'])\n",
        "\n",
        "x_train, x_test, y_train, y_test = train_test_split(x, y, \n",
        "                                                  test_size=0.2, stratify=y, random_state=4)"
      ],
      "metadata": {
        "id": "akLqZ7kxjVPn"
      },
      "execution_count": null,
      "outputs": []
    },
    {
      "cell_type": "code",
      "source": [
        "print(Counter(y_train))\n",
        "print(Counter(y_test))\n",
        "\n",
        "estimate = Counter(y_train)[0] / Counter(y_train)[1]\n",
        "print('Ratio: %.3f' % estimate)\n",
        "print('X Train Shape: ', x_train.shape)\n",
        "print('X Test Shape: ', x_test.shape)\n",
        "print('Y Train Shape: ', y_train.shape)\n",
        "print('Y Test Shape: ', y_test.shape)"
      ],
      "metadata": {
        "id": "Z_xQ1o67ty9t",
        "colab": {
          "base_uri": "https://localhost:8080/"
        },
        "outputId": "f30d2e36-493a-4137-893e-b1b0eb35a65c"
      },
      "execution_count": null,
      "outputs": [
        {
          "output_type": "stream",
          "name": "stdout",
          "text": [
            "Counter({0: 28673, 1: 211})\n",
            "Counter({0: 7168, 1: 53})\n",
            "Ratio: 135.891\n",
            "X Train Shape:  (28884, 51)\n",
            "X Test Shape:  (7221, 51)\n",
            "Y Train Shape:  (28884,)\n",
            "Y Test Shape:  (7221,)\n"
          ]
        }
      ]
    },
    {
      "cell_type": "markdown",
      "source": [
        "# **RandomizedSearchCV**\n",
        "Previously explored using **GridSearchCV** for hyperparameter tuning. However, after realising that it's a very brute force method, I switched to using **RandomizedSearchCV** for hyperparameter tuning."
      ],
      "metadata": {
        "id": "wr-e8_c3sK6X"
      }
    },
    {
      "cell_type": "code",
      "source": [
        "param_grid = { \n",
        "    'scale_pos_weight': [20, 40, 60],\n",
        "    'learning_rate': [0.6, 0.7, 0.8, 0.9],\n",
        "    'max_depth': [6, 7, 8, 9],\n",
        "    'min_child_weight': [1, 2, 3, 4],\n",
        "    'gamma': [0.1, 0.2, 0.3],\n",
        "    'colsample_bytree': [0.8, 0.9, 1.0],\n",
        "    'reg_alpha': [0.05, 0.1, 0.5],\n",
        "    'reg_lambda': [0.05, 0.1, 0.5]\n",
        "    }"
      ],
      "metadata": {
        "id": "BUhipBFad9hz"
      },
      "execution_count": null,
      "outputs": []
    },
    {
      "cell_type": "code",
      "source": [
        "random = RandomizedSearchCV(estimator=XGBClassifier(), \n",
        "                           param_distributions=param_grid, \n",
        "                           n_iter=45, n_jobs=-1)\n",
        "random.fit(x_train, y_train)\n",
        "print(random.best_params_)"
      ],
      "metadata": {
        "id": "0Nn0ASf5qCbE",
        "colab": {
          "base_uri": "https://localhost:8080/"
        },
        "outputId": "d6fc0cc6-8279-4c00-9ca2-cfdd5b3630c7"
      },
      "execution_count": null,
      "outputs": [
        {
          "output_type": "stream",
          "name": "stdout",
          "text": [
            "{'scale_pos_weight': 60, 'reg_lambda': 0.1, 'reg_alpha': 0.05, 'min_child_weight': 1, 'max_depth': 8, 'learning_rate': 0.9, 'gamma': 0.1, 'colsample_bytree': 0.8}\n"
          ]
        }
      ]
    },
    {
      "cell_type": "markdown",
      "source": [
        "# **Check Performance of XGBClassifier**"
      ],
      "metadata": {
        "id": "xH19Q11k4i9X"
      }
    },
    {
      "cell_type": "markdown",
      "source": [
        "## **No hyperparameters**\n",
        "Without hyperparameter tuning, accuracy is very high at 99.2% due to the class imbalance in the data. \n",
        "\n",
        "F1-score returned is 0% as all the data is labelled as the majority class."
      ],
      "metadata": {
        "id": "edqiTET74i9X"
      }
    },
    {
      "cell_type": "code",
      "source": [
        "XGB = XGBClassifier()\n",
        "XGB.fit(x_train, y_train)\n",
        "\n",
        "preds = XGB.predict(x_test)\n",
        "y_pred = XGB.predict_proba(x_test)[:,1]\n",
        "FPR, TPR, _ = metrics.roc_curve(y_test,  y_pred)\n",
        "\n",
        "plt.plot(FPR, TPR)\n",
        "plt.ylabel('True Positive Rate')\n",
        "plt.xlabel('False Positive Rate')\n",
        "plt.show()\n",
        "\n",
        "print(\"Train accuracy: \", metrics.accuracy_score(y_train, XGB.predict(x_train)))\n",
        "print(\"Test accuracy: \", metrics.accuracy_score(y_test, preds))\n",
        "print(\"Area Under ROC Curve: \", metrics.roc_auc_score(y_test, y_pred))\n",
        "print(\"F1 score: \", metrics.f1_score(y_test, preds))\n",
        "print(\"Recall: \", metrics.recall_score(y_test, preds))\n",
        "print(\"Precision: \", metrics.precision_score(y_test, preds))\n"
      ],
      "metadata": {
        "colab": {
          "base_uri": "https://localhost:8080/",
          "height": 438
        },
        "outputId": "d8db76cc-4b5e-444a-cdad-8eaebef2c13e",
        "id": "5PjRbqSc4i9X"
      },
      "execution_count": null,
      "outputs": [
        {
          "output_type": "display_data",
          "data": {
            "text/plain": [
              "<Figure size 432x288 with 1 Axes>"
            ],
            "image/png": "[encoded data removed]"
          },
          "metadata": {
            "needs_background": "light"
          }
        },
        {
          "output_type": "stream",
          "name": "stdout",
          "text": [
            "Train accuracy:  0.9926949176014402\n",
            "Test accuracy:  0.9926602963578451\n",
            "Area Under ROC Curve:  0.5894712874831537\n",
            "F1 score:  0.0\n",
            "Recall:  0.0\n",
            "Precision:  0.0\n"
          ]
        },
        {
          "output_type": "stream",
          "name": "stderr",
          "text": [
            "/usr/local/lib/python3.7/dist-packages/sklearn/metrics/_classification.py:1318: UndefinedMetricWarning: Precision is ill-defined and being set to 0.0 due to no predicted samples. Use `zero_division` parameter to control this behavior.\n",
            "  _warn_prf(average, modifier, msg_start, len(result))\n"
          ]
        }
      ]
    },
    {
      "cell_type": "code",
      "source": [
        "train_preds = XGB.predict(x_train)\n",
        "print(\"Test Set confusion matrix: \\n\", metrics.confusion_matrix(y_test, preds))\n",
        "print(\"Train Set confusion matrix: \\n\", metrics.confusion_matrix(y_train, train_preds))"
      ],
      "metadata": {
        "colab": {
          "base_uri": "https://localhost:8080/"
        },
        "outputId": "1423e952-9f87-4205-e3e7-01ec14e178ae",
        "id": "tiWTSkSN4i9Y"
      },
      "execution_count": null,
      "outputs": [
        {
          "output_type": "stream",
          "name": "stdout",
          "text": [
            "Test Set confusion matrix: \n",
            " [[7168    0]\n",
            " [  53    0]]\n",
            "Train Set confusion matrix: \n",
            " [[28673     0]\n",
            " [  211     0]]\n"
          ]
        }
      ]
    },
    {
      "cell_type": "markdown",
      "source": [
        "## **With hyperparameters**\n",
        "With hyperparameter tuning, accuracy dropped slightly to 97.9% for the test set. However, accuracy is still very high due to class imbalance. Hence, looking at the recall, precision and F1-score is a better indication of how well the model does.\n",
        " \n",
        "F1-score has increased compared to without any hyperparameter, with it being 21.2%, increasing from 0% previously, showing that the model is now able to accurately predict some on the minority class. \n",
        " \n",
        "We decided to look at the F1-score of our model, as we believe that only focusing on either Precision or Recall is not sufficient. Taking bad customers who are likely to default as positives, minimising both false-positives for Precision and false-negatives for Recall are essential for credit card approval situations. \n"
      ],
      "metadata": {
        "id": "BLMnBcWI4i9Y"
      }
    },
    {
      "cell_type": "code",
      "source": [
        "XGB = XGBClassifier(**random.best_params_) \n",
        "XGB.fit(x_train, y_train)\n",
        "\n",
        "preds = XGB.predict(x_test)\n",
        "y_pred = XGB.predict_proba(x_test)[:,1]\n",
        "FPR, TPR, _ = metrics.roc_curve(y_test,  y_pred)\n",
        "\n",
        "plt.plot(FPR, TPR)\n",
        "plt.ylabel('True Positive Rate')\n",
        "plt.xlabel('False Positive Rate')\n",
        "plt.show()\n",
        "\n",
        "print(\"Train accuracy: \", metrics.accuracy_score(y_train, XGB.predict(x_train)))\n",
        "print(\"Test accuracy: \", metrics.accuracy_score(y_test, preds))\n",
        "print(\"Area Under ROC Curve: \", metrics.roc_auc_score(y_test, y_pred))\n",
        "print(\"F1 score: \", metrics.f1_score(y_test, preds))\n",
        "print(\"Recall: \", metrics.recall_score(y_test, preds))\n",
        "print(\"Precision: \", metrics.precision_score(y_test, preds))\n"
      ],
      "metadata": {
        "colab": {
          "base_uri": "https://localhost:8080/",
          "height": 383
        },
        "outputId": "be10f31b-a579-4826-9230-7969686343c9",
        "id": "uZ51RrNF4i9Y"
      },
      "execution_count": null,
      "outputs": [
        {
          "output_type": "display_data",
          "data": {
            "text/plain": [
              "<Figure size 432x288 with 1 Axes>"
            ],
            "image/png": "[encoded data removed]"
          },
          "metadata": {
            "needs_background": "light"
          }
        },
        {
          "output_type": "stream",
          "name": "stdout",
          "text": [
            "Train accuracy:  0.9847666528181692\n",
            "Test accuracy:  0.9795042237917186\n",
            "Area Under ROC Curve:  0.6582847245619945\n",
            "F1 score:  0.2127659574468085\n",
            "Recall:  0.37735849056603776\n",
            "Precision:  0.14814814814814814\n"
          ]
        }
      ]
    },
    {
      "cell_type": "code",
      "source": [
        "train_preds = XGB.predict(x_train)\n",
        "print(\"Test Set confusion matrix: \\n\", metrics.confusion_matrix(y_test, preds))\n",
        "print(\"Train Set confusion matrix: \\n\", metrics.confusion_matrix(y_train, train_preds))\n",
        "print(random.best_params_)"
      ],
      "metadata": {
        "colab": {
          "base_uri": "https://localhost:8080/"
        },
        "outputId": "b2f295ee-5ad7-4344-b07c-b0cc2d85e5c7",
        "id": "X4EynT0N4i9Y"
      },
      "execution_count": null,
      "outputs": [
        {
          "output_type": "stream",
          "name": "stdout",
          "text": [
            "Test Set confusion matrix: \n",
            " [[7053  115]\n",
            " [  33   20]]\n",
            "Train Set confusion matrix: \n",
            " [[28233   440]\n",
            " [    0   211]]\n",
            "{'scale_pos_weight': 60, 'reg_lambda': 0.1, 'reg_alpha': 0.05, 'min_child_weight': 1, 'max_depth': 8, 'learning_rate': 0.9, 'gamma': 0.1, 'colsample_bytree': 0.8}\n"
          ]
        }
      ]
    },
    {
      "cell_type": "markdown",
      "source": [
        "# **Previously Done**\n",
        "Previously tried out some sampling techniques, such as SMOTE oversampling and random undersampling. Other Normalisation techniques that were attempted are data scaling, checking feature importance and removing highly correlated variables.\n",
        "\n",
        "However, most of these returned results will lower F1-scores than simply using the base XGBClassifier model, and they have been removed."
      ],
      "metadata": {
        "id": "HDvByorFDqHz"
      }
    },
    {
      "cell_type": "markdown",
      "source": [
        "## Feature Engineering + Correlation"
      ],
      "metadata": {
        "id": "XSPLu9NHq3tT"
      }
    },
    {
      "cell_type": "code",
      "source": [
        "cc_data_fe=cc_data.copy(deep=True)\n",
        "cc_data_fe['Income_Per_Fam_Memeber']=cc_data_fe['AMT_INCOME_TOTAL']/cc_data_fe['CNT_FAM_MEMBERS']"
      ],
      "metadata": {
        "id": "lAxws157q3tU"
      },
      "execution_count": null,
      "outputs": []
    },
    {
      "cell_type": "code",
      "source": [
        "cc_data_fe['NAME_FAMILY_STATUS'].value_counts()"
      ],
      "metadata": {
        "colab": {
          "base_uri": "https://localhost:8080/"
        },
        "outputId": "5cd8b4da-0173-4996-ebac-3a96f92b44f5",
        "id": "I-B6tyhAq3tU"
      },
      "execution_count": null,
      "outputs": [
        {
          "output_type": "execute_result",
          "data": {
            "text/plain": [
              "Married                 24837\n",
              "Single / not married     4760\n",
              "Civil marriage           2915\n",
              "Separated                2090\n",
              "Widow                    1503\n",
              "Name: NAME_FAMILY_STATUS, dtype: int64"
            ]
          },
          "metadata": {},
          "execution_count": 59
        }
      ]
    },
    {
      "cell_type": "code",
      "source": [
        "cc_data_fe['Legal_Married']=cc_data_fe['NAME_FAMILY_STATUS'].replace(\n",
        "    ['Civil marriage','Married','Single / not married','Separated','Widow'],\n",
        "    [1,1,0,0,0])\n",
        "cc_data_fe=cc_data_fe.drop('NAME_FAMILY_STATUS', axis=1)"
      ],
      "metadata": {
        "id": "ERUBePzOq3tV"
      },
      "execution_count": null,
      "outputs": []
    },
    {
      "cell_type": "code",
      "source": [
        "cc_data_fe['NAME_EDUCATION_TYPE'].value_counts()"
      ],
      "metadata": {
        "colab": {
          "base_uri": "https://localhost:8080/"
        },
        "outputId": "d79d8d1d-9fcf-4ed3-e3aa-7818db93a2e4",
        "id": "ZjFADIXYq3tV"
      },
      "execution_count": null,
      "outputs": [
        {
          "output_type": "execute_result",
          "data": {
            "text/plain": [
              "Secondary / secondary special    24536\n",
              "Higher education                  9769\n",
              "Incomplete higher                 1398\n",
              "Lower secondary                    370\n",
              "Academic degree                     32\n",
              "Name: NAME_EDUCATION_TYPE, dtype: int64"
            ]
          },
          "metadata": {},
          "execution_count": 61
        }
      ]
    },
    {
      "cell_type": "code",
      "source": [
        "cc_data_fe['Higher_Education']=cc_data_fe['NAME_EDUCATION_TYPE'].replace(\n",
        "    ['Higher education','Secondary / secondary special','Incomplete higher','Lower secondary','Academic degree'],\n",
        "    [1,0,1,0,1])\n",
        "cc_data_fe=cc_data_fe.drop('NAME_EDUCATION_TYPE', axis=1)"
      ],
      "metadata": {
        "id": "wR3gurA5q3tV"
      },
      "execution_count": null,
      "outputs": []
    },
    {
      "cell_type": "code",
      "source": [
        "cc_data_fe['NAME_HOUSING_TYPE'].value_counts()"
      ],
      "metadata": {
        "colab": {
          "base_uri": "https://localhost:8080/"
        },
        "id": "KP6gCW4RJJz2",
        "outputId": "e6d3a08f-a9a3-4a40-c2e4-66261914689d"
      },
      "execution_count": null,
      "outputs": [
        {
          "output_type": "execute_result",
          "data": {
            "text/plain": [
              "House / apartment      32248\n",
              "With parents            1761\n",
              "Municipal apartment     1102\n",
              "Rented apartment         571\n",
              "Office apartment         257\n",
              "Co-op apartment          166\n",
              "Name: NAME_HOUSING_TYPE, dtype: int64"
            ]
          },
          "metadata": {},
          "execution_count": 63
        }
      ]
    },
    {
      "cell_type": "code",
      "source": [
        "cc_data_fe['Own_house']=cc_data_fe['NAME_HOUSING_TYPE'].replace(\n",
        "    ['House / apartment', 'With parents', 'Municipal apartment', \n",
        "    'Rented apartment', 'Office apartment', 'Co-op apartment'],\n",
        "    [1,0,1,1,1,1])\n",
        "cc_data_fe=cc_data_fe.drop('NAME_HOUSING_TYPE', axis=1)"
      ],
      "metadata": {
        "id": "ikQ2vjZeMuq8"
      },
      "execution_count": null,
      "outputs": []
    },
    {
      "cell_type": "code",
      "source": [
        "# Finding correlation \n",
        "corr_matrix = cc_data_fe.corr().abs()\n",
        "# Upper triagle\n",
        "upper_corr_mat = corr_matrix.where(\n",
        "    np.triu(np.ones(corr_matrix.shape), k=1).astype(bool))\n",
        "unique_corr_pairs = upper_corr_mat.unstack().dropna()\n",
        "sorted_mat = unique_corr_pairs.sort_values()\n",
        "sorted_mat[sorted_mat > 0.75]"
      ],
      "metadata": {
        "colab": {
          "base_uri": "https://localhost:8080/"
        },
        "outputId": "1f822fa3-847f-42b0-fc03-164b1d51c577",
        "id": "cSvU4C8kq3tV"
      },
      "execution_count": null,
      "outputs": [
        {
          "output_type": "execute_result",
          "data": {
            "text/plain": [
              "CNT_FAM_MEMBERS  CNT_CHILDREN    0.88985\n",
              "dtype: float64"
            ]
          },
          "metadata": {},
          "execution_count": 65
        }
      ]
    },
    {
      "cell_type": "code",
      "source": [
        "# Dropping one of the highly correlated variables \n",
        "cc_data_fe=cc_data_fe.drop(['CNT_CHILDREN'], axis=1)"
      ],
      "metadata": {
        "id": "Hn_5Ya1sq3tW"
      },
      "execution_count": null,
      "outputs": []
    },
    {
      "cell_type": "code",
      "source": [
        "cc_data_fe"
      ],
      "metadata": {
        "colab": {
          "base_uri": "https://localhost:8080/",
          "height": 522
        },
        "id": "AawpyMKfH6mG",
        "outputId": "611ad579-4d27-4525-8249-c11f34dbec58"
      },
      "execution_count": null,
      "outputs": [
        {
          "output_type": "execute_result",
          "data": {
            "text/plain": [
              "       AMT_INCOME_TOTAL      NAME_INCOME_TYPE  DAYS_BIRTH  DAYS_EMPLOYED  \\\n",
              "0              427500.0               Working      -12005          -4542   \n",
              "1              427500.0               Working      -12005          -4542   \n",
              "2              112500.0               Working      -21474          -1134   \n",
              "3              270000.0  Commercial associate      -19110          -3051   \n",
              "4              270000.0  Commercial associate      -19110          -3051   \n",
              "...                 ...                   ...         ...            ...   \n",
              "36100          112500.0               Working      -14234           -309   \n",
              "36101          112500.0               Working      -14234           -309   \n",
              "36102          180000.0               Working      -17713          -2441   \n",
              "36103          180000.0               Working      -17713          -2441   \n",
              "36104           90000.0               Working      -12414           -128   \n",
              "\n",
              "       FLAG_WORK_PHONE  FLAG_PHONE  FLAG_EMAIL OCCUPATION_TYPE  \\\n",
              "0                    1           0           0         Unknown   \n",
              "1                    1           0           0         Unknown   \n",
              "2                    0           0           0  Security staff   \n",
              "3                    0           1           1     Sales staff   \n",
              "4                    0           1           1     Sales staff   \n",
              "...                ...         ...         ...             ...   \n",
              "36100                0           0           0      Core staff   \n",
              "36101                0           0           0      Core staff   \n",
              "36102                0           0           0   Cooking staff   \n",
              "36103                0           0           0   Cooking staff   \n",
              "36104                0           0           0         Unknown   \n",
              "\n",
              "       CNT_FAM_MEMBERS  Gender  Has_Car  Has_Realty  REALTYPE  \\\n",
              "0                    2       1        1           1         0   \n",
              "1                    2       1        1           1         0   \n",
              "2                    2       1        1           1         0   \n",
              "3                    1       0        0           1         0   \n",
              "4                    1       0        0           1         0   \n",
              "...                ...     ...      ...         ...       ...   \n",
              "36100                3       0        1           1         0   \n",
              "36101                3       0        1           1         0   \n",
              "36102                2       0        0           1         0   \n",
              "36103                2       0        0           1         0   \n",
              "36104                2       0        0           0         0   \n",
              "\n",
              "       Income_Per_Fam_Memeber  Legal_Married  Higher_Education  Own_house  \n",
              "0                    213750.0              1                 1          1  \n",
              "1                    213750.0              1                 1          1  \n",
              "2                     56250.0              1                 0          1  \n",
              "3                    270000.0              0                 0          1  \n",
              "4                    270000.0              0                 0          1  \n",
              "...                       ...            ...               ...        ...  \n",
              "36100                 37500.0              1                 0          1  \n",
              "36101                 37500.0              1                 0          1  \n",
              "36102                 90000.0              1                 0          1  \n",
              "36103                 90000.0              1                 0          1  \n",
              "36104                 45000.0              1                 1          0  \n",
              "\n",
              "[36105 rows x 17 columns]"
            ],
            "text/html": [
              "\n",
              "  <div id=\"df-a6e67e1b-5600-4ec5-9480-e06385b6b345\">\n",
              "    <div class=\"colab-df-container\">\n",
              "      <div>\n",
              "<style scoped>\n",
              "    .dataframe tbody tr th:only-of-type {\n",
              "        vertical-align: middle;\n",
              "    }\n",
              "\n",
              "    .dataframe tbody tr th {\n",
              "        vertical-align: top;\n",
              "    }\n",
              "\n",
              "    .dataframe thead th {\n",
              "        text-align: right;\n",
              "    }\n",
              "</style>\n",
              "<table border=\"1\" class=\"dataframe\">\n",
              "  <thead>\n",
              "    <tr style=\"text-align: right;\">\n",
              "      <th></th>\n",
              "      <th>AMT_INCOME_TOTAL</th>\n",
              "      <th>NAME_INCOME_TYPE</th>\n",
              "      <th>DAYS_BIRTH</th>\n",
              "      <th>DAYS_EMPLOYED</th>\n",
              "      <th>FLAG_WORK_PHONE</th>\n",
              "      <th>FLAG_PHONE</th>\n",
              "      <th>FLAG_EMAIL</th>\n",
              "      <th>OCCUPATION_TYPE</th>\n",
              "      <th>CNT_FAM_MEMBERS</th>\n",
              "      <th>Gender</th>\n",
              "      <th>Has_Car</th>\n",
              "      <th>Has_Realty</th>\n",
              "      <th>REALTYPE</th>\n",
              "      <th>Income_Per_Fam_Memeber</th>\n",
              "      <th>Legal_Married</th>\n",
              "      <th>Higher_Education</th>\n",
              "      <th>Own_house</th>\n",
              "    </tr>\n",
              "  </thead>\n",
              "  <tbody>\n",
              "    <tr>\n",
              "      <th>0</th>\n",
              "      <td>427500.0</td>\n",
              "      <td>Working</td>\n",
              "      <td>-12005</td>\n",
              "      <td>-4542</td>\n",
              "      <td>1</td>\n",
              "      <td>0</td>\n",
              "      <td>0</td>\n",
              "      <td>Unknown</td>\n",
              "      <td>2</td>\n",
              "      <td>1</td>\n",
              "      <td>1</td>\n",
              "      <td>1</td>\n",
              "      <td>0</td>\n",
              "      <td>213750.0</td>\n",
              "      <td>1</td>\n",
              "      <td>1</td>\n",
              "      <td>1</td>\n",
              "    </tr>\n",
              "    <tr>\n",
              "      <th>1</th>\n",
              "      <td>427500.0</td>\n",
              "      <td>Working</td>\n",
              "      <td>-12005</td>\n",
              "      <td>-4542</td>\n",
              "      <td>1</td>\n",
              "      <td>0</td>\n",
              "      <td>0</td>\n",
              "      <td>Unknown</td>\n",
              "      <td>2</td>\n",
              "      <td>1</td>\n",
              "      <td>1</td>\n",
              "      <td>1</td>\n",
              "      <td>0</td>\n",
              "      <td>213750.0</td>\n",
              "      <td>1</td>\n",
              "      <td>1</td>\n",
              "      <td>1</td>\n",
              "    </tr>\n",
              "    <tr>\n",
              "      <th>2</th>\n",
              "      <td>112500.0</td>\n",
              "      <td>Working</td>\n",
              "      <td>-21474</td>\n",
              "      <td>-1134</td>\n",
              "      <td>0</td>\n",
              "      <td>0</td>\n",
              "      <td>0</td>\n",
              "      <td>Security staff</td>\n",
              "      <td>2</td>\n",
              "      <td>1</td>\n",
              "      <td>1</td>\n",
              "      <td>1</td>\n",
              "      <td>0</td>\n",
              "      <td>56250.0</td>\n",
              "      <td>1</td>\n",
              "      <td>0</td>\n",
              "      <td>1</td>\n",
              "    </tr>\n",
              "    <tr>\n",
              "      <th>3</th>\n",
              "      <td>270000.0</td>\n",
              "      <td>Commercial associate</td>\n",
              "      <td>-19110</td>\n",
              "      <td>-3051</td>\n",
              "      <td>0</td>\n",
              "      <td>1</td>\n",
              "      <td>1</td>\n",
              "      <td>Sales staff</td>\n",
              "      <td>1</td>\n",
              "      <td>0</td>\n",
              "      <td>0</td>\n",
              "      <td>1</td>\n",
              "      <td>0</td>\n",
              "      <td>270000.0</td>\n",
              "      <td>0</td>\n",
              "      <td>0</td>\n",
              "      <td>1</td>\n",
              "    </tr>\n",
              "    <tr>\n",
              "      <th>4</th>\n",
              "      <td>270000.0</td>\n",
              "      <td>Commercial associate</td>\n",
              "      <td>-19110</td>\n",
              "      <td>-3051</td>\n",
              "      <td>0</td>\n",
              "      <td>1</td>\n",
              "      <td>1</td>\n",
              "      <td>Sales staff</td>\n",
              "      <td>1</td>\n",
              "      <td>0</td>\n",
              "      <td>0</td>\n",
              "      <td>1</td>\n",
              "      <td>0</td>\n",
              "      <td>270000.0</td>\n",
              "      <td>0</td>\n",
              "      <td>0</td>\n",
              "      <td>1</td>\n",
              "    </tr>\n",
              "    <tr>\n",
              "      <th>...</th>\n",
              "      <td>...</td>\n",
              "      <td>...</td>\n",
              "      <td>...</td>\n",
              "      <td>...</td>\n",
              "      <td>...</td>\n",
              "      <td>...</td>\n",
              "      <td>...</td>\n",
              "      <td>...</td>\n",
              "      <td>...</td>\n",
              "      <td>...</td>\n",
              "      <td>...</td>\n",
              "      <td>...</td>\n",
              "      <td>...</td>\n",
              "      <td>...</td>\n",
              "      <td>...</td>\n",
              "      <td>...</td>\n",
              "      <td>...</td>\n",
              "    </tr>\n",
              "    <tr>\n",
              "      <th>36100</th>\n",
              "      <td>112500.0</td>\n",
              "      <td>Working</td>\n",
              "      <td>-14234</td>\n",
              "      <td>-309</td>\n",
              "      <td>0</td>\n",
              "      <td>0</td>\n",
              "      <td>0</td>\n",
              "      <td>Core staff</td>\n",
              "      <td>3</td>\n",
              "      <td>0</td>\n",
              "      <td>1</td>\n",
              "      <td>1</td>\n",
              "      <td>0</td>\n",
              "      <td>37500.0</td>\n",
              "      <td>1</td>\n",
              "      <td>0</td>\n",
              "      <td>1</td>\n",
              "    </tr>\n",
              "    <tr>\n",
              "      <th>36101</th>\n",
              "      <td>112500.0</td>\n",
              "      <td>Working</td>\n",
              "      <td>-14234</td>\n",
              "      <td>-309</td>\n",
              "      <td>0</td>\n",
              "      <td>0</td>\n",
              "      <td>0</td>\n",
              "      <td>Core staff</td>\n",
              "      <td>3</td>\n",
              "      <td>0</td>\n",
              "      <td>1</td>\n",
              "      <td>1</td>\n",
              "      <td>0</td>\n",
              "      <td>37500.0</td>\n",
              "      <td>1</td>\n",
              "      <td>0</td>\n",
              "      <td>1</td>\n",
              "    </tr>\n",
              "    <tr>\n",
              "      <th>36102</th>\n",
              "      <td>180000.0</td>\n",
              "      <td>Working</td>\n",
              "      <td>-17713</td>\n",
              "      <td>-2441</td>\n",
              "      <td>0</td>\n",
              "      <td>0</td>\n",
              "      <td>0</td>\n",
              "      <td>Cooking staff</td>\n",
              "      <td>2</td>\n",
              "      <td>0</td>\n",
              "      <td>0</td>\n",
              "      <td>1</td>\n",
              "      <td>0</td>\n",
              "      <td>90000.0</td>\n",
              "      <td>1</td>\n",
              "      <td>0</td>\n",
              "      <td>1</td>\n",
              "    </tr>\n",
              "    <tr>\n",
              "      <th>36103</th>\n",
              "      <td>180000.0</td>\n",
              "      <td>Working</td>\n",
              "      <td>-17713</td>\n",
              "      <td>-2441</td>\n",
              "      <td>0</td>\n",
              "      <td>0</td>\n",
              "      <td>0</td>\n",
              "      <td>Cooking staff</td>\n",
              "      <td>2</td>\n",
              "      <td>0</td>\n",
              "      <td>0</td>\n",
              "      <td>1</td>\n",
              "      <td>0</td>\n",
              "      <td>90000.0</td>\n",
              "      <td>1</td>\n",
              "      <td>0</td>\n",
              "      <td>1</td>\n",
              "    </tr>\n",
              "    <tr>\n",
              "      <th>36104</th>\n",
              "      <td>90000.0</td>\n",
              "      <td>Working</td>\n",
              "      <td>-12414</td>\n",
              "      <td>-128</td>\n",
              "      <td>0</td>\n",
              "      <td>0</td>\n",
              "      <td>0</td>\n",
              "      <td>Unknown</td>\n",
              "      <td>2</td>\n",
              "      <td>0</td>\n",
              "      <td>0</td>\n",
              "      <td>0</td>\n",
              "      <td>0</td>\n",
              "      <td>45000.0</td>\n",
              "      <td>1</td>\n",
              "      <td>1</td>\n",
              "      <td>0</td>\n",
              "    </tr>\n",
              "  </tbody>\n",
              "</table>\n",
              "<p>36105 rows × 17 columns</p>\n",
              "</div>\n",
              "      <button class=\"colab-df-convert\" onclick=\"convertToInteractive('df-a6e67e1b-5600-4ec5-9480-e06385b6b345')\"\n",
              "              title=\"Convert this dataframe to an interactive table.\"\n",
              "              style=\"display:none;\">\n",
              "        \n",
              "  <svg xmlns=\"http://www.w3.org/2000/svg\" height=\"24px\"viewBox=\"0 0 24 24\"\n",
              "       width=\"24px\">\n",
              "    <path d=\"M0 0h24v24H0V0z\" fill=\"none\"/>\n",
              "    <path d=\"M18.56 5.44l.94 2.06.94-2.06 2.06-.94-2.06-.94-.94-2.06-.94 2.06-2.06.94zm-11 1L8.5 8.5l.94-2.06 2.06-.94-2.06-.94L8.5 2.5l-.94 2.06-2.06.94zm10 10l.94 2.06.94-2.06 2.06-.94-2.06-.94-.94-2.06-.94 2.06-2.06.94z\"/><path d=\"M17.41 7.96l-1.37-1.37c-.4-.4-.92-.59-1.43-.59-.52 0-1.04.2-1.43.59L10.3 9.45l-7.72 7.72c-.78.78-.78 2.05 0 2.83L4 21.41c.39.39.9.59 1.41.59.51 0 1.02-.2 1.41-.59l7.78-7.78 2.81-2.81c.8-.78.8-2.07 0-2.86zM5.41 20L4 18.59l7.72-7.72 1.47 1.35L5.41 20z\"/>\n",
              "  </svg>\n",
              "      </button>\n",
              "      \n",
              "  <style>\n",
              "    .colab-df-container {\n",
              "      display:flex;\n",
              "      flex-wrap:wrap;\n",
              "      gap: 12px;\n",
              "    }\n",
              "\n",
              "    .colab-df-convert {\n",
              "      background-color: #E8F0FE;\n",
              "      border: none;\n",
              "      border-radius: 50%;\n",
              "      cursor: pointer;\n",
              "      display: none;\n",
              "      fill: #1967D2;\n",
              "      height: 32px;\n",
              "      padding: 0 0 0 0;\n",
              "      width: 32px;\n",
              "    }\n",
              "\n",
              "    .colab-df-convert:hover {\n",
              "      background-color: #E2EBFA;\n",
              "      box-shadow: 0px 1px 2px rgba(60, 64, 67, 0.3), 0px 1px 3px 1px rgba(60, 64, 67, 0.15);\n",
              "      fill: #174EA6;\n",
              "    }\n",
              "\n",
              "    [theme=dark] .colab-df-convert {\n",
              "      background-color: #3B4455;\n",
              "      fill: #D2E3FC;\n",
              "    }\n",
              "\n",
              "    [theme=dark] .colab-df-convert:hover {\n",
              "      background-color: #434B5C;\n",
              "      box-shadow: 0px 1px 3px 1px rgba(0, 0, 0, 0.15);\n",
              "      filter: drop-shadow(0px 1px 2px rgba(0, 0, 0, 0.3));\n",
              "      fill: #FFFFFF;\n",
              "    }\n",
              "  </style>\n",
              "\n",
              "      <script>\n",
              "        const buttonEl =\n",
              "          document.querySelector('#df-a6e67e1b-5600-4ec5-9480-e06385b6b345 button.colab-df-convert');\n",
              "        buttonEl.style.display =\n",
              "          google.colab.kernel.accessAllowed ? 'block' : 'none';\n",
              "\n",
              "        async function convertToInteractive(key) {\n",
              "          const element = document.querySelector('#df-a6e67e1b-5600-4ec5-9480-e06385b6b345');\n",
              "          const dataTable =\n",
              "            await google.colab.kernel.invokeFunction('convertToInteractive',\n",
              "                                                     [key], {});\n",
              "          if (!dataTable) return;\n",
              "\n",
              "          const docLinkHtml = 'Like what you see? Visit the ' +\n",
              "            '<a target=\"_blank\" href=https://colab.research.google.com/notebooks/data_table.ipynb>data table notebook</a>'\n",
              "            + ' to learn more about interactive tables.';\n",
              "          element.innerHTML = '';\n",
              "          dataTable['output_type'] = 'display_data';\n",
              "          await google.colab.output.renderOutput(dataTable, element);\n",
              "          const docLink = document.createElement('div');\n",
              "          docLink.innerHTML = docLinkHtml;\n",
              "          element.appendChild(docLink);\n",
              "        }\n",
              "      </script>\n",
              "    </div>\n",
              "  </div>\n",
              "  "
            ]
          },
          "metadata": {},
          "execution_count": 67
        }
      ]
    },
    {
      "cell_type": "markdown",
      "source": [
        "## SMOTE oversampling"
      ],
      "metadata": {
        "id": "vz-sa3f5Nx0Q"
      }
    },
    {
      "cell_type": "code",
      "source": [
        "from imblearn.over_sampling import SMOTENC \n",
        "smote_oversample  = SMOTENC(categorical_features=range(12,51), sampling_strategy=0.05, random_state=4)\n",
        "x_train_smote, y_train_smote = smote_oversample.fit_resample(x_train, y_train)"
      ],
      "metadata": {
        "id": "DNgm6lwFuH3k"
      },
      "execution_count": null,
      "outputs": []
    },
    {
      "cell_type": "code",
      "source": [
        "print(Counter(y_train_smote))\n",
        "print(Counter(y_test))\n",
        "\n",
        "estimate = Counter(y_train_smote)[0] / Counter(y_train_smote)[1]\n",
        "print('Ratio: %.3f' % estimate)\n",
        "print('X Train Shape: ', x_train_smote.shape)\n",
        "print('X Test Shape: ', x_test.shape)\n",
        "print('Y Train Shape: ', y_train_smote.shape)\n",
        "print('Y Test Shape: ', y_test.shape)"
      ],
      "metadata": {
        "colab": {
          "base_uri": "https://localhost:8080/"
        },
        "id": "hPPEOSdLQAv3",
        "outputId": "21ac1ba0-ada0-42c4-ea9d-e40b46837db0"
      },
      "execution_count": null,
      "outputs": [
        {
          "output_type": "stream",
          "name": "stdout",
          "text": [
            "Counter({0: 28673, 1: 1433})\n",
            "Counter({0: 7168, 1: 53})\n",
            "Ratio: 20.009\n",
            "X Train Shape:  (30106, 51)\n",
            "X Test Shape:  (7221, 51)\n",
            "Y Train Shape:  (30106,)\n",
            "Y Test Shape:  (7221,)\n"
          ]
        }
      ]
    },
    {
      "cell_type": "code",
      "source": [
        "random_SMOTE = RandomizedSearchCV(estimator=XGBClassifier(), \n",
        "                           param_distributions=param_grid, \n",
        "                           n_iter=40, n_jobs=-1)\n",
        "random_SMOTE.fit(x_train_smote, y_train_smote)\n",
        "print(random_SMOTE.best_params_)"
      ],
      "metadata": {
        "colab": {
          "base_uri": "https://localhost:8080/"
        },
        "outputId": "e097c00b-8836-4bb7-c1d1-f241a32263d8",
        "id": "pkJoV93AQGVd"
      },
      "execution_count": null,
      "outputs": [
        {
          "output_type": "stream",
          "name": "stdout",
          "text": [
            "{'scale_pos_weight': 60, 'reg_lambda': 0.1, 'reg_alpha': 0.5, 'min_child_weight': 1, 'max_depth': 9, 'learning_rate': 0.6, 'gamma': 0.1, 'colsample_bytree': 0.9}\n"
          ]
        }
      ]
    },
    {
      "cell_type": "code",
      "source": [
        "XGB_smote = XGBClassifier(**random_SMOTE.best_params_) \n",
        "XGB_smote.fit(x_train_smote, y_train_smote)\n",
        "\n",
        "preds = XGB_smote.predict(x_test)\n",
        "y_pred = XGB_smote.predict_proba(x_test)[:,1]\n",
        "FPR, TPR, _ = metrics.roc_curve(y_test,  y_pred)\n",
        "\n",
        "plt.plot(FPR, TPR)\n",
        "plt.ylabel('True Positive Rate')\n",
        "plt.xlabel('False Positive Rate')\n",
        "plt.show()\n",
        "\n",
        "print(\"Train accuracy: \", metrics.accuracy_score(y_train_smote, XGB_smote.predict(x_train_smote)))\n",
        "print(\"Test accuracy: \", metrics.accuracy_score(y_test, preds))\n",
        "print(\"Area Under ROC Curve: \", metrics.roc_auc_score(y_test, y_pred))\n",
        "print(\"F1 score: \", metrics.f1_score(y_test, preds))\n",
        "print(\"Recall: \", metrics.recall_score(y_test, preds))\n",
        "print(\"Precision: \", metrics.precision_score(y_test, preds))\n"
      ],
      "metadata": {
        "colab": {
          "base_uri": "https://localhost:8080/",
          "height": 383
        },
        "outputId": "0a2a7491-0561-48cb-ede7-10f6c1f3b0cb",
        "id": "Q9uGy03ZExFG"
      },
      "execution_count": null,
      "outputs": [
        {
          "output_type": "display_data",
          "data": {
            "text/plain": [
              "<Figure size 432x288 with 1 Axes>"
            ],
            "image/png": "[encoded data removed]"
          },
          "metadata": {
            "needs_background": "light"
          }
        },
        {
          "output_type": "stream",
          "name": "stdout",
          "text": [
            "Train accuracy:  0.9853849730950641\n",
            "Test accuracy:  0.9790887688685778\n",
            "Area Under ROC Curve:  0.6841188826650944\n",
            "F1 score:  0.2094240837696335\n",
            "Recall:  0.37735849056603776\n",
            "Precision:  0.14492753623188406\n"
          ]
        }
      ]
    },
    {
      "cell_type": "markdown",
      "source": [
        "## Checking Feature Importance"
      ],
      "metadata": {
        "id": "5BQ8hBeMbZKB"
      }
    },
    {
      "cell_type": "code",
      "source": [
        "XGB = XGBClassifier()\n",
        "XGB.fit(x_train, y_train)\n",
        "\n",
        "df_fi = pd.DataFrame(XGB.feature_importances_,\n",
        "                     cc_data_num.loc[:, cc_data_num.columns !='REALTYPE'].columns)\n",
        "least_imp = []\n",
        "for i in range(len(XGB.feature_importances_)):\n",
        "    if XGB.feature_importances_[i] < 0.03:\n",
        "        least_imp += [i,]\n",
        "print(least_imp)\n",
        "print(df_fi.iloc[least_imp])"
      ],
      "metadata": {
        "colab": {
          "base_uri": "https://localhost:8080/"
        },
        "outputId": "edf93fed-607d-4aea-dfcb-c4ba68f65b63",
        "id": "HngIaZbubZKH"
      },
      "execution_count": null,
      "outputs": [
        {
          "output_type": "stream",
          "name": "stdout",
          "text": [
            "[7, 8, 9, 12, 14, 15, 16, 18, 19, 21, 22, 25, 26, 27, 28, 29, 30, 31, 32, 33, 34, 36, 37, 38, 39, 41, 42, 43, 44, 45, 46, 47, 48, 50]\n",
            "                                              0\n",
            "CNT_FAM_MEMBERS                        0.029652\n",
            "Gender                                 0.029108\n",
            "Has_Car                                0.025555\n",
            "NAME_INCOME_TYPE_Pensioner             0.000000\n",
            "NAME_INCOME_TYPE_Student               0.000000\n",
            "NAME_INCOME_TYPE_Working               0.000000\n",
            "NAME_EDUCATION_TYPE_Academic degree    0.000000\n",
            "NAME_EDUCATION_TYPE_Incomplete higher  0.016176\n",
            "NAME_EDUCATION_TYPE_Lower secondary    0.018107\n",
            "NAME_FAMILY_STATUS_Civil marriage      0.000000\n",
            "NAME_FAMILY_STATUS_Married             0.000000\n",
            "NAME_FAMILY_STATUS_Widow               0.023592\n",
            "NAME_HOUSING_TYPE_Co-op apartment      0.000000\n",
            "NAME_HOUSING_TYPE_House / apartment    0.010715\n",
            "NAME_HOUSING_TYPE_Municipal apartment  0.022977\n",
            "NAME_HOUSING_TYPE_Office apartment     0.020230\n",
            "NAME_HOUSING_TYPE_Rented apartment     0.000000\n",
            "NAME_HOUSING_TYPE_With parents         0.000000\n",
            "OCCUPATION_TYPE_Accountants            0.000000\n",
            "OCCUPATION_TYPE_Cleaning staff         0.014436\n",
            "OCCUPATION_TYPE_Cooking staff          0.018510\n",
            "OCCUPATION_TYPE_Drivers                0.000000\n",
            "OCCUPATION_TYPE_HR staff               0.000000\n",
            "OCCUPATION_TYPE_High skill tech staff  0.023852\n",
            "OCCUPATION_TYPE_IT staff               0.000000\n",
            "OCCUPATION_TYPE_Low-skill Laborers     0.000000\n",
            "OCCUPATION_TYPE_Managers               0.000000\n",
            "OCCUPATION_TYPE_Medicine staff         0.012797\n",
            "OCCUPATION_TYPE_Private service staff  0.000000\n",
            "OCCUPATION_TYPE_Realty agents          0.000000\n",
            "OCCUPATION_TYPE_Sales staff            0.018418\n",
            "OCCUPATION_TYPE_Secretaries            0.000000\n",
            "OCCUPATION_TYPE_Security staff         0.000000\n",
            "OCCUPATION_TYPE_Waiters/barmen staff   0.000000\n"
          ]
        }
      ]
    },
    {
      "cell_type": "code",
      "source": [
        "x_train_fi = np.delete(x_train, least_imp, axis=1)\n",
        "x_test_fi = np.delete(x_test, least_imp, axis=1)\n",
        "\n",
        "print(x_train_fi.shape)\n",
        "print(x_test_fi.shape)"
      ],
      "metadata": {
        "colab": {
          "base_uri": "https://localhost:8080/"
        },
        "outputId": "423ddcda-f693-4f39-91fd-052a9d4b42e9",
        "id": "IsIno_NpbZKI"
      },
      "execution_count": null,
      "outputs": [
        {
          "output_type": "stream",
          "name": "stdout",
          "text": [
            "(28884, 17)\n",
            "(7221, 17)\n"
          ]
        }
      ]
    },
    {
      "cell_type": "markdown",
      "source": [
        "## **GridSearchCV**\n",
        "Used a list `best_parameters` which is updated as each iteration of **GridSearchCV** was done. "
      ],
      "metadata": {
        "id": "V9npmcUwgHAE"
      }
    },
    {
      "cell_type": "code",
      "source": [
        "best_parameters = {}"
      ],
      "metadata": {
        "id": "Fgg06Do_kCBl"
      },
      "execution_count": null,
      "outputs": []
    },
    {
      "cell_type": "markdown",
      "source": [
        "### GridSearchCV for **scale_pos_weight** and **learning_rate**"
      ],
      "metadata": {
        "id": "htuC1XDvsom7"
      }
    },
    {
      "cell_type": "code",
      "source": [
        "param_test = {\n",
        "    'scale_pos_weight':[20, 40, 60],\n",
        "    'learning_rate':[1.0, 1.2, 1.4]\n",
        "}\n",
        "\n",
        "grid = GridSearchCV(estimator=XGBClassifier(**best_parameters), \n",
        "                     param_grid=param_test, n_jobs=-1) \n",
        "\n",
        "grid.fit(x_train, y_train)\n",
        "best_parameters.update(grid.best_params_)\n",
        "print(grid.best_params_)\n",
        "print(best_parameters)"
      ],
      "metadata": {
        "id": "lPFSuwfws2NZ",
        "colab": {
          "base_uri": "https://localhost:8080/"
        },
        "outputId": "fdbfb15d-5aa0-4fa4-d4e3-7a06750e7f4f"
      },
      "execution_count": null,
      "outputs": [
        {
          "output_type": "stream",
          "name": "stdout",
          "text": [
            "{'learning_rate': 1.0, 'scale_pos_weight': 20}\n",
            "{'learning_rate': 1.0, 'scale_pos_weight': 20}\n"
          ]
        }
      ]
    },
    {
      "cell_type": "code",
      "source": [
        "preds = grid.predict(x_test)\n",
        "y_pred = grid.predict_proba(x_test)[:,1]\n",
        "FPR, TPR, _ = metrics.roc_curve(y_test,  y_pred)\n",
        "\n",
        "plt.plot(FPR, TPR)\n",
        "plt.ylabel('True Positive Rate')\n",
        "plt.xlabel('False Positive Rate')\n",
        "plt.show()\n",
        "\n",
        "print(\"Train accuracy: \", metrics.accuracy_score(y_train, grid.predict(x_train)))\n",
        "print(\"Test accuracy: \", metrics.accuracy_score(y_test, preds))\n",
        "print(\"Area Under ROC Curve: \", metrics.roc_auc_score(y_test, y_pred))\n",
        "print(\"F1 score: \", metrics.f1_score(y_test, preds))\n",
        "print(\"Recall: \", metrics.recall_score(y_test, preds))\n",
        "print(\"Precision: \", metrics.precision_score(y_test, preds))"
      ],
      "metadata": {
        "id": "-Ka1FUqB2Oyd",
        "colab": {
          "base_uri": "https://localhost:8080/",
          "height": 383
        },
        "outputId": "4a21fe0c-8441-4347-d997-25f2561dd085"
      },
      "execution_count": null,
      "outputs": [
        {
          "output_type": "display_data",
          "data": {
            "text/plain": [
              "<Figure size 432x288 with 1 Axes>"
            ],
            "image/png": "[encoded data removed]"
          },
          "metadata": {
            "needs_background": "light"
          }
        },
        {
          "output_type": "stream",
          "name": "stdout",
          "text": [
            "Train accuracy:  0.9829317269076305\n",
            "Test accuracy:  0.9763190693809721\n",
            "Area Under ROC Curve:  0.7192211716644205\n",
            "F1 score:  0.1971830985915493\n",
            "Recall:  0.39622641509433965\n",
            "Precision:  0.13125\n"
          ]
        }
      ]
    },
    {
      "cell_type": "markdown",
      "source": [
        "### GridSearchCV for **max_depth** and **min_child_weight**\n",
        "Fixing *scale_pos_weight* and *learning_rate* "
      ],
      "metadata": {
        "id": "k12RAlFOmyid"
      }
    },
    {
      "cell_type": "code",
      "source": [
        "param_test = {\n",
        "    'max_depth':[4,5,6],\n",
        "    'min_child_weight':[2,3,4]\n",
        "}\n",
        "\n",
        "grid = GridSearchCV(estimator=XGBClassifier(**best_parameters), \n",
        "                     param_grid=param_test, n_jobs=-1) \n",
        "\n",
        "grid.fit(x_train, y_train)\n",
        "best_parameters.update(grid.best_params_)\n",
        "print(grid.best_params_)\n",
        "print(best_parameters)"
      ],
      "metadata": {
        "id": "MO-AhkZ32Dw1",
        "colab": {
          "base_uri": "https://localhost:8080/"
        },
        "outputId": "2c8be723-ab9a-46c1-ca68-4f54cc075907"
      },
      "execution_count": null,
      "outputs": [
        {
          "output_type": "stream",
          "name": "stdout",
          "text": [
            "{'max_depth': 6, 'min_child_weight': 2}\n",
            "{'learning_rate': 1.0, 'scale_pos_weight': 20, 'max_depth': 6, 'min_child_weight': 2}\n"
          ]
        }
      ]
    },
    {
      "cell_type": "code",
      "source": [
        "preds = grid.predict(x_test)\n",
        "y_pred = grid.predict_proba(x_test)[:,1]\n",
        "FPR, TPR, _ = metrics.roc_curve(y_test,  y_pred)\n",
        "\n",
        "plt.plot(FPR, TPR)\n",
        "plt.ylabel('True Positive Rate')\n",
        "plt.xlabel('False Positive Rate')\n",
        "plt.show()\n",
        "\n",
        "print(\"Train accuracy: \", metrics.accuracy_score(y_train, grid.predict(x_train)))\n",
        "print(\"Test accuracy: \", metrics.accuracy_score(y_test, preds))\n",
        "print(\"Area Under ROC Curve: \", metrics.roc_auc_score(y_test, y_pred))\n",
        "print(\"F1 score: \", metrics.f1_score(y_test, preds))\n",
        "print(\"Recall: \", metrics.recall_score(y_test, preds))\n",
        "print(\"Precision: \", metrics.precision_score(y_test, preds))"
      ],
      "metadata": {
        "id": "6krFC3Pm2Dw1",
        "colab": {
          "base_uri": "https://localhost:8080/",
          "height": 383
        },
        "outputId": "026979b0-8d5f-45ac-fb6a-803a1d4c8c84"
      },
      "execution_count": null,
      "outputs": [
        {
          "output_type": "display_data",
          "data": {
            "text/plain": [
              "<Figure size 432x288 with 1 Axes>"
            ],
            "image/png": "[encoded data removed]"
          },
          "metadata": {
            "needs_background": "light"
          }
        },
        {
          "output_type": "stream",
          "name": "stdout",
          "text": [
            "Train accuracy:  0.9847666528181692\n",
            "Test accuracy:  0.9793657388173383\n",
            "Area Under ROC Curve:  0.6076614091981132\n",
            "F1 score:  0.21164021164021166\n",
            "Recall:  0.37735849056603776\n",
            "Precision:  0.14705882352941177\n"
          ]
        }
      ]
    },
    {
      "cell_type": "markdown",
      "source": [
        "### GridSearchCV for **subsample** and **colsample_bytree**\n",
        "Fixing *scale_pos_weight*, *learning_rate*, *max_depth* and *min_child_weight*"
      ],
      "metadata": {
        "id": "J5t3yVRpCdb6"
      }
    },
    {
      "cell_type": "code",
      "source": [
        "param_test = {\n",
        "    'subsample':[0.8,0.9,1.0],\n",
        "    'colsample_bytree':[0.8,0.9,1.0]\n",
        "}\n",
        "\n",
        "grid = GridSearchCV(estimator=XGBClassifier(**best_parameters), \n",
        "                     param_grid=param_test, n_jobs=-1) \n",
        "\n",
        "grid.fit(x_train, y_train)\n",
        "best_parameters.update(grid.best_params_)\n",
        "print(grid.best_params_)\n",
        "print(best_parameters)"
      ],
      "metadata": {
        "id": "a88D-C4GCgbd",
        "colab": {
          "base_uri": "https://localhost:8080/"
        },
        "outputId": "a62914c7-b0de-4185-f213-06367da4dad3"
      },
      "execution_count": null,
      "outputs": [
        {
          "output_type": "stream",
          "name": "stdout",
          "text": [
            "{'colsample_bytree': 0.9, 'subsample': 1.0}\n",
            "{'learning_rate': 1.0, 'scale_pos_weight': 20, 'max_depth': 6, 'min_child_weight': 2, 'colsample_bytree': 0.9, 'subsample': 1.0}\n"
          ]
        }
      ]
    },
    {
      "cell_type": "code",
      "source": [
        "preds = grid.predict(x_test)\n",
        "y_pred = grid.predict_proba(x_test)[:,1]\n",
        "FPR, TPR, _ = metrics.roc_curve(y_test,  y_pred)\n",
        "\n",
        "plt.plot(FPR, TPR)\n",
        "plt.ylabel('True Positive Rate')\n",
        "plt.xlabel('False Positive Rate')\n",
        "plt.show()\n",
        "\n",
        "print(\"Train accuracy: \", metrics.accuracy_score(y_train, grid.predict(x_train)))\n",
        "print(\"Test accuracy: \", metrics.accuracy_score(y_test, preds))\n",
        "print(\"Area Under ROC Curve: \", metrics.roc_auc_score(y_test, y_pred))\n",
        "print(\"F1 score: \", metrics.f1_score(y_test, preds))\n",
        "print(\"Recall: \", metrics.recall_score(y_test, preds))\n",
        "print(\"Precision: \", metrics.precision_score(y_test, preds))"
      ],
      "metadata": {
        "id": "KltYYJNBCgbd",
        "colab": {
          "base_uri": "https://localhost:8080/",
          "height": 383
        },
        "outputId": "f6ff1bff-591d-4cf4-ec25-920694282529"
      },
      "execution_count": null,
      "outputs": [
        {
          "output_type": "display_data",
          "data": {
            "text/plain": [
              "<Figure size 432x288 with 1 Axes>"
            ],
            "image/png": "[encoded data removed]"
          },
          "metadata": {
            "needs_background": "light"
          }
        },
        {
          "output_type": "stream",
          "name": "stdout",
          "text": [
            "Train accuracy:  0.9847666528181692\n",
            "Test accuracy:  0.9793657388173383\n",
            "Area Under ROC Curve:  0.6537914841644206\n",
            "F1 score:  0.21164021164021166\n",
            "Recall:  0.37735849056603776\n",
            "Precision:  0.14705882352941177\n"
          ]
        }
      ]
    },
    {
      "cell_type": "markdown",
      "source": [
        "### GridSearchCV for **reg_alpha** and **gamma**\n",
        "Fixing *scale_pos_weight*, *learning_rate*, *max_depth*, *min_child_weight*, *subsample* and *colsample_bytree*"
      ],
      "metadata": {
        "id": "HAstfq6BGG7Y"
      }
    },
    {
      "cell_type": "code",
      "source": [
        "param_test = {\n",
        "    'reg_alpha':[0.05,0.06,0.07],\n",
        "    'gamma':[0,0.2,0.4]\n",
        "}\n",
        "\n",
        "grid = GridSearchCV(estimator=XGBClassifier(**best_parameters), \n",
        "                    param_grid=param_test, n_jobs=-1) \n",
        "\n",
        "grid.fit(x_train, y_train)\n",
        "best_parameters.update(grid.best_params_)\n",
        "print(grid.best_params_)\n",
        "print(best_parameters)"
      ],
      "metadata": {
        "id": "e0Iu9QjjGG7f",
        "colab": {
          "base_uri": "https://localhost:8080/"
        },
        "outputId": "d6fb7240-0cb0-4050-f9b8-1801fecc5535"
      },
      "execution_count": null,
      "outputs": [
        {
          "output_type": "stream",
          "name": "stdout",
          "text": [
            "{'gamma': 0, 'reg_alpha': 0.05}\n",
            "{'learning_rate': 1.0, 'scale_pos_weight': 20, 'max_depth': 6, 'min_child_weight': 2, 'colsample_bytree': 0.9, 'subsample': 1.0, 'gamma': 0, 'reg_alpha': 0.05}\n"
          ]
        }
      ]
    },
    {
      "cell_type": "code",
      "source": [
        "preds = grid.predict(x_test)\n",
        "y_pred = grid.predict_proba(x_test)[:,1]\n",
        "FPR, TPR, _ = metrics.roc_curve(y_test,  y_pred)\n",
        "\n",
        "plt.plot(FPR, TPR)\n",
        "plt.ylabel('True Positive Rate')\n",
        "plt.xlabel('False Positive Rate')\n",
        "plt.show()\n",
        "\n",
        "print(\"Train accuracy: \", metrics.accuracy_score(y_train, grid.predict(x_train)))\n",
        "print(\"Test accuracy: \", metrics.accuracy_score(y_test, preds))\n",
        "print(\"Area Under ROC Curve: \", metrics.roc_auc_score(y_test, y_pred))\n",
        "print(\"F1 score: \", metrics.f1_score(y_test, preds))\n",
        "print(\"Recall: \", metrics.recall_score(y_test, preds))\n",
        "print(\"Precision: \", metrics.precision_score(y_test, preds))"
      ],
      "metadata": {
        "id": "dJVdUxFsGG7f",
        "colab": {
          "base_uri": "https://localhost:8080/",
          "height": 383
        },
        "outputId": "8df98c23-4935-4b00-a022-c1081843ec71"
      },
      "execution_count": null,
      "outputs": [
        {
          "output_type": "display_data",
          "data": {
            "text/plain": [
              "<Figure size 432x288 with 1 Axes>"
            ],
            "image/png": "[encoded data removed]"
          },
          "metadata": {
            "needs_background": "light"
          }
        },
        {
          "output_type": "stream",
          "name": "stdout",
          "text": [
            "Train accuracy:  0.9847666528181692\n",
            "Test accuracy:  0.9793657388173383\n",
            "Area Under ROC Curve:  0.6976222940532345\n",
            "F1 score:  0.2198952879581152\n",
            "Recall:  0.39622641509433965\n",
            "Precision:  0.15217391304347827\n"
          ]
        }
      ]
    },
    {
      "cell_type": "markdown",
      "source": [
        "### Final model after **GridSearchCV**"
      ],
      "metadata": {
        "id": "NIe8pUaredfk"
      }
    },
    {
      "cell_type": "code",
      "source": [
        "XGB_grid = XGBClassifier(**best_parameters) \n",
        "XGB_grid.fit(x_train, y_train)\n",
        "\n",
        "preds = XGB_grid.predict(x_test)\n",
        "y_pred = XGB_grid.predict_proba(x_test)[:,1]\n",
        "FPR, TPR, _ = metrics.roc_curve(y_test,  y_pred)\n",
        "\n",
        "plt.plot(FPR, TPR)\n",
        "plt.ylabel('True Positive Rate')\n",
        "plt.xlabel('False Positive Rate')\n",
        "plt.show()\n",
        "\n",
        "print(\"Train accuracy: \", metrics.accuracy_score(y_train, XGB_grid.predict(x_train)))\n",
        "print(\"Test accuracy: \", metrics.accuracy_score(y_test, preds))\n",
        "print(\"Area Under ROC Curve: \", metrics.roc_auc_score(y_test, y_pred))\n",
        "print(\"F1 score: \", metrics.f1_score(y_test, preds))\n",
        "print(\"Recall: \", metrics.recall_score(y_test, preds))\n",
        "print(\"Precision: \", metrics.precision_score(y_test, preds))\n"
      ],
      "metadata": {
        "colab": {
          "base_uri": "https://localhost:8080/",
          "height": 383
        },
        "outputId": "a43c0dea-0a37-4328-ee13-35fb3deafeb5",
        "id": "QTVZZCWeXufh"
      },
      "execution_count": null,
      "outputs": [
        {
          "output_type": "display_data",
          "data": {
            "text/plain": [
              "<Figure size 432x288 with 1 Axes>"
            ],
            "image/png": "[encoded data removed]"
          },
          "metadata": {
            "needs_background": "light"
          }
        },
        {
          "output_type": "stream",
          "name": "stdout",
          "text": [
            "Train accuracy:  0.9847666528181692\n",
            "Test accuracy:  0.9793657388173383\n",
            "Area Under ROC Curve:  0.6976222940532345\n",
            "F1 score:  0.2198952879581152\n",
            "Recall:  0.39622641509433965\n",
            "Precision:  0.15217391304347827\n"
          ]
        }
      ]
    },
    {
      "cell_type": "code",
      "source": [
        "train_preds = XGB_grid.predict(x_train)\n",
        "print(\"Test Set confusion matrix: \\n\", metrics.confusion_matrix(y_test, preds))\n",
        "print(\"Train Set confusion matrix: \\n\", metrics.confusion_matrix(y_train, train_preds))\n",
        "print(random.best_params_)"
      ],
      "metadata": {
        "colab": {
          "base_uri": "https://localhost:8080/"
        },
        "outputId": "4443c183-e249-4fa1-f1cc-6c36e326ae31",
        "id": "16Azt-D_Xufi"
      },
      "execution_count": null,
      "outputs": [
        {
          "output_type": "stream",
          "name": "stdout",
          "text": [
            "Test Set confusion matrix: \n",
            " [[7051  117]\n",
            " [  32   21]]\n",
            "Train Set confusion matrix: \n",
            " [[28233   440]\n",
            " [    0   211]]\n",
            "{'scale_pos_weight': 60, 'reg_lambda': 0.1, 'reg_alpha': 0.05, 'min_child_weight': 1, 'max_depth': 8, 'learning_rate': 0.9, 'gamma': 0.1, 'colsample_bytree': 0.8}\n"
          ]
        }
      ]
    }
  ]
}